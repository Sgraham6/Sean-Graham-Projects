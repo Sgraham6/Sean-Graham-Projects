{
 "cells": [
  {
   "cell_type": "raw",
   "id": "46eb3f1c",
   "metadata": {},
   "source": [
    "# Project 4"
   ]
  },
  {
   "cell_type": "markdown",
   "id": "16b21098",
   "metadata": {},
   "source": [
    "You are a data scientist working for a Political Consulting Firm. You are given a dataset containing in Twitter_Data.csv. This dataset has the following two columns:\n",
    "+ clean_text: Tweets made by the people extracted from Twitter Mainly Focused on tweets Made by People on Modi(2019 Indian Prime Minister candidate) and Other Prime Ministerial Candidates.\n",
    "+ category: It describes the actual sentiment of the respective tweet with three values of -1, 0, and 1.\n",
    "\n",
    "Data source: https://www.kaggle.com/cosmos98/twitter-and-reddit-sentimental-analysis-dataset?select=Twitter_Data.csv"
   ]
  },
  {
   "cell_type": "code",
   "execution_count": 1,
   "id": "9d239216",
   "metadata": {},
   "outputs": [],
   "source": [
    "import pandas as pd\n",
    "import spacy\n",
    "import numpy as np\n",
    "from numpy import dot\n",
    "\n",
    "from sklearn.feature_extraction.text import TfidfVectorizer\n",
    "from sklearn.metrics.pairwise import cosine_similarity\n",
    "\n",
    "from scipy.sparse.linalg import norm \n",
    "from scipy import spatial"
   ]
  },
  {
   "cell_type": "markdown",
   "id": "9e671f7b",
   "metadata": {},
   "source": [
    "### Q1. Load the dataset of Twitter_Data.csv into memory."
   ]
  },
  {
   "cell_type": "code",
   "execution_count": 2,
   "id": "e9c2326d",
   "metadata": {},
   "outputs": [
    {
     "data": {
      "text/html": [
       "<div>\n",
       "<style scoped>\n",
       "    .dataframe tbody tr th:only-of-type {\n",
       "        vertical-align: middle;\n",
       "    }\n",
       "\n",
       "    .dataframe tbody tr th {\n",
       "        vertical-align: top;\n",
       "    }\n",
       "\n",
       "    .dataframe thead th {\n",
       "        text-align: right;\n",
       "    }\n",
       "</style>\n",
       "<table border=\"1\" class=\"dataframe\">\n",
       "  <thead>\n",
       "    <tr style=\"text-align: right;\">\n",
       "      <th></th>\n",
       "      <th>clean_text</th>\n",
       "      <th>category</th>\n",
       "    </tr>\n",
       "  </thead>\n",
       "  <tbody>\n",
       "    <tr>\n",
       "      <th>0</th>\n",
       "      <td>when modi promised “minimum government maximum...</td>\n",
       "      <td>-1.0</td>\n",
       "    </tr>\n",
       "    <tr>\n",
       "      <th>1</th>\n",
       "      <td>talk all the nonsense and continue all the dra...</td>\n",
       "      <td>0.0</td>\n",
       "    </tr>\n",
       "    <tr>\n",
       "      <th>2</th>\n",
       "      <td>what did just say vote for modi  welcome bjp t...</td>\n",
       "      <td>1.0</td>\n",
       "    </tr>\n",
       "    <tr>\n",
       "      <th>3</th>\n",
       "      <td>asking his supporters prefix chowkidar their n...</td>\n",
       "      <td>1.0</td>\n",
       "    </tr>\n",
       "    <tr>\n",
       "      <th>4</th>\n",
       "      <td>answer who among these the most powerful world...</td>\n",
       "      <td>1.0</td>\n",
       "    </tr>\n",
       "    <tr>\n",
       "      <th>5</th>\n",
       "      <td>kiya tho refresh maarkefir comment karo</td>\n",
       "      <td>0.0</td>\n",
       "    </tr>\n",
       "    <tr>\n",
       "      <th>6</th>\n",
       "      <td>surat women perform yagna seeks divine grace f...</td>\n",
       "      <td>0.0</td>\n",
       "    </tr>\n",
       "    <tr>\n",
       "      <th>7</th>\n",
       "      <td>this comes from cabinet which has scholars lik...</td>\n",
       "      <td>0.0</td>\n",
       "    </tr>\n",
       "    <tr>\n",
       "      <th>8</th>\n",
       "      <td>with upcoming election india saga going import...</td>\n",
       "      <td>1.0</td>\n",
       "    </tr>\n",
       "    <tr>\n",
       "      <th>9</th>\n",
       "      <td>gandhi was gay does modi</td>\n",
       "      <td>1.0</td>\n",
       "    </tr>\n",
       "  </tbody>\n",
       "</table>\n",
       "</div>"
      ],
      "text/plain": [
       "                                          clean_text  category\n",
       "0  when modi promised “minimum government maximum...      -1.0\n",
       "1  talk all the nonsense and continue all the dra...       0.0\n",
       "2  what did just say vote for modi  welcome bjp t...       1.0\n",
       "3  asking his supporters prefix chowkidar their n...       1.0\n",
       "4  answer who among these the most powerful world...       1.0\n",
       "5           kiya tho refresh maarkefir comment karo        0.0\n",
       "6  surat women perform yagna seeks divine grace f...       0.0\n",
       "7  this comes from cabinet which has scholars lik...       0.0\n",
       "8  with upcoming election india saga going import...       1.0\n",
       "9                         gandhi was gay does modi         1.0"
      ]
     },
     "execution_count": 2,
     "metadata": {},
     "output_type": "execute_result"
    }
   ],
   "source": [
    "Twitter_Data = pd.read_csv('Twitter_Data.csv')\n",
    "Twitter_Data.head(10)"
   ]
  },
  {
   "cell_type": "markdown",
   "id": "af85cbbc",
   "metadata": {},
   "source": [
    "### Q2. Find the cosine similarity in clean_text between the 100th and 10,000th tweets using dot and norm functions."
   ]
  },
  {
   "cell_type": "code",
   "execution_count": 3,
   "id": "da5fba22",
   "metadata": {},
   "outputs": [
    {
     "name": "stdout",
     "output_type": "stream",
     "text": [
      "The size of the tf_idf matrix for the texts = (2, 30).\n"
     ]
    }
   ],
   "source": [
    "tfidf_vectorizer = TfidfVectorizer(use_idf = True,smooth_idf = True, sublinear_tf = False)\n",
    "\n",
    "two_tweets = Twitter_Data.loc[[100, 10000],:]\n",
    "tf_idf_matrix = tfidf_vectorizer.fit_transform(two_tweets['clean_text'])\n",
    "print(f'The size of the tf_idf matrix for the texts = {tf_idf_matrix.get_shape()}.')"
   ]
  },
  {
   "cell_type": "code",
   "execution_count": 4,
   "id": "77e19365",
   "metadata": {},
   "outputs": [
    {
     "name": "stdout",
     "output_type": "stream",
     "text": [
      "The cosine similarity between \"why limited here are other prefixes for twitter that perhaps more accurately capture the state the citizens \" and \"dought all constitution post now modi bhaktaur bjp band hai kya galat kah diya\" = [[0.]].\n"
     ]
    }
   ],
   "source": [
    "cos_sim =  dot(tf_idf_matrix[0, :], tf_idf_matrix[1, :].T) / (norm(tf_idf_matrix[0, :]) * norm(tf_idf_matrix[1, :]))\n",
    "print(f'The cosine similarity between \"{two_tweets.loc[two_tweets.index[0], \"clean_text\"]}\" and \"{two_tweets.loc[two_tweets.index[1], \"clean_text\"]}\" = {cos_sim.todense()}.')"
   ]
  },
  {
   "cell_type": "markdown",
   "id": "22dd02d3",
   "metadata": {},
   "source": [
    "### Q3 Find the cosine similarity in clean_text between the 100th and 10,000th tweets using the cosine function."
   ]
  },
  {
   "cell_type": "code",
   "execution_count": 5,
   "id": "d69fd532",
   "metadata": {},
   "outputs": [
    {
     "name": "stdout",
     "output_type": "stream",
     "text": [
      "The cosine similarity between \"why limited here are other prefixes for twitter that perhaps more accurately capture the state the citizens \" and \"dought all constitution post now modi bhaktaur bjp band hai kya galat kah diya\" = 0.0.\n"
     ]
    }
   ],
   "source": [
    "cos_sim = 1 - spatial.distance.cosine(tf_idf_matrix[0, :].todense(), tf_idf_matrix[1, :].todense())\n",
    "print(f'The cosine similarity between \"{two_tweets.loc[two_tweets.index[0], \"clean_text\"]}\" and \"{two_tweets.loc[two_tweets.index[1], \"clean_text\"]}\" = {cos_sim}.')"
   ]
  },
  {
   "cell_type": "markdown",
   "id": "9ced8eae",
   "metadata": {},
   "source": [
    "### Q4. Find the cosine similarity in clean_text between the 100th and 10,000th tweets using cosine_similarity function."
   ]
  },
  {
   "cell_type": "code",
   "execution_count": 6,
   "id": "e38bea88",
   "metadata": {},
   "outputs": [
    {
     "name": "stdout",
     "output_type": "stream",
     "text": [
      "The cosine similarity between \"why limited here are other prefixes for twitter that perhaps more accurately capture the state the citizens \" and \"dought all constitution post now modi bhaktaur bjp band hai kya galat kah diya\" = 0.0.\n"
     ]
    }
   ],
   "source": [
    "cos_sim = cosine_similarity(tf_idf_matrix,dense_output = True)\n",
    "print(f'The cosine similarity between \"{two_tweets.loc[two_tweets.index[0], \"clean_text\"]}\" and \"{two_tweets.loc[two_tweets.index[1], \"clean_text\"]}\" = {cos_sim[0,1]}.')"
   ]
  },
  {
   "cell_type": "markdown",
   "id": "6d6df3d7",
   "metadata": {},
   "source": [
    "### Q5. Find the cosine similarity in clean_text between the 100th and 10,000th tweets using the Spacy function."
   ]
  },
  {
   "cell_type": "code",
   "execution_count": 7,
   "id": "91ac7b3e",
   "metadata": {},
   "outputs": [
    {
     "name": "stdout",
     "output_type": "stream",
     "text": [
      "why limited here are other prefixes for twitter that perhaps more accurately capture the state the citizens \n",
      "\n",
      "dought all constitution post now modi bhaktaur bjp band hai kya galat kah diya\n",
      "\n",
      "The similarity between them = 0.21.\n"
     ]
    }
   ],
   "source": [
    "nlp = spacy.load(\"en_core_web_lg\")\n",
    "\n",
    "review1 = Twitter_Data['clean_text'][100]\n",
    "review2 = Twitter_Data['clean_text'][10000]\n",
    "\n",
    "print(review1)\n",
    "print('')\n",
    "print(review2)\n",
    "print('')\n",
    "\n",
    "doc1 = nlp(review1)\n",
    "doc2 = nlp(review2)\n",
    "\n",
    "print(f\"The similarity between them = {doc1.similarity(doc2):.2f}.\")"
   ]
  },
  {
   "cell_type": "markdown",
   "id": "bd1e8b19",
   "metadata": {},
   "source": [
    "### Q6. Find the tweets with the cosine similarity > 60% with the 100th tweet in this dataset."
   ]
  },
  {
   "cell_type": "code",
   "execution_count": 8,
   "id": "22f8d974",
   "metadata": {},
   "outputs": [
    {
     "data": {
      "text/html": [
       "<div>\n",
       "<style scoped>\n",
       "    .dataframe tbody tr th:only-of-type {\n",
       "        vertical-align: middle;\n",
       "    }\n",
       "\n",
       "    .dataframe tbody tr th {\n",
       "        vertical-align: top;\n",
       "    }\n",
       "\n",
       "    .dataframe thead th {\n",
       "        text-align: right;\n",
       "    }\n",
       "</style>\n",
       "<table border=\"1\" class=\"dataframe\">\n",
       "  <thead>\n",
       "    <tr style=\"text-align: right;\">\n",
       "      <th></th>\n",
       "      <th>Index</th>\n",
       "      <th>Review</th>\n",
       "      <th>Similarity to Tweet 100</th>\n",
       "    </tr>\n",
       "  </thead>\n",
       "  <tbody>\n",
       "    <tr>\n",
       "      <th>0</th>\n",
       "      <td>0</td>\n",
       "      <td>when modi promised “minimum government maximum...</td>\n",
       "      <td>0.9009649756099746</td>\n",
       "    </tr>\n",
       "    <tr>\n",
       "      <th>1</th>\n",
       "      <td>1</td>\n",
       "      <td>talk all the nonsense and continue all the dra...</td>\n",
       "      <td>0.8674500325008898</td>\n",
       "    </tr>\n",
       "    <tr>\n",
       "      <th>2</th>\n",
       "      <td>2</td>\n",
       "      <td>what did just say vote for modi  welcome bjp t...</td>\n",
       "      <td>0.7512252259472123</td>\n",
       "    </tr>\n",
       "    <tr>\n",
       "      <th>3</th>\n",
       "      <td>3</td>\n",
       "      <td>asking his supporters prefix chowkidar their n...</td>\n",
       "      <td>0.9156707641086899</td>\n",
       "    </tr>\n",
       "    <tr>\n",
       "      <th>4</th>\n",
       "      <td>4</td>\n",
       "      <td>answer who among these the most powerful world...</td>\n",
       "      <td>0.8474105556247228</td>\n",
       "    </tr>\n",
       "    <tr>\n",
       "      <th>5</th>\n",
       "      <td>7</td>\n",
       "      <td>this comes from cabinet which has scholars lik...</td>\n",
       "      <td>0.7505986418265169</td>\n",
       "    </tr>\n",
       "    <tr>\n",
       "      <th>6</th>\n",
       "      <td>8</td>\n",
       "      <td>with upcoming election india saga going import...</td>\n",
       "      <td>0.8377886532052728</td>\n",
       "    </tr>\n",
       "  </tbody>\n",
       "</table>\n",
       "</div>"
      ],
      "text/plain": [
       "  Index                                             Review  \\\n",
       "0     0  when modi promised “minimum government maximum...   \n",
       "1     1  talk all the nonsense and continue all the dra...   \n",
       "2     2  what did just say vote for modi  welcome bjp t...   \n",
       "3     3  asking his supporters prefix chowkidar their n...   \n",
       "4     4  answer who among these the most powerful world...   \n",
       "5     7  this comes from cabinet which has scholars lik...   \n",
       "6     8  with upcoming election india saga going import...   \n",
       "\n",
       "  Similarity to Tweet 100  \n",
       "0      0.9009649756099746  \n",
       "1      0.8674500325008898  \n",
       "2      0.7512252259472123  \n",
       "3      0.9156707641086899  \n",
       "4      0.8474105556247228  \n",
       "5      0.7505986418265169  \n",
       "6      0.8377886532052728  "
      ]
     },
     "execution_count": 8,
     "metadata": {},
     "output_type": "execute_result"
    }
   ],
   "source": [
    "similarity_df = pd.DataFrame(columns=['Index', 'Review', 'Similarity to Tweet 100'])\n",
    "\n",
    "# Looping over the whole dataset would take a long time, so a set number of rows to examine can be placed here.\n",
    "# Any value from 1 - 162980 is valid.\n",
    "value = 10\n",
    "\n",
    "for i in range(0, value):\n",
    "    if i == 100:\n",
    "        continue\n",
    "    \n",
    "    review1 = str(Twitter_Data['clean_text'][100])\n",
    "    review2 = str(Twitter_Data['clean_text'][i])\n",
    "    \n",
    "    doc1 = nlp(review1)\n",
    "    doc2 = nlp(review2)\n",
    "    \n",
    "    if doc1.similarity(doc2) > 0.6:\n",
    "        # I would have used .append(), but I recieved a warning saying that this function will soon be removed.\n",
    "        info = {'Index': [i], 'Review': [review2], 'Similarity to Tweet 100': [str(doc1.similarity(doc2))]}\n",
    "        new_row = pd.DataFrame(data = info)\n",
    "        similarity_df = pd.concat([similarity_df, new_row])\n",
    "        \n",
    "similarity_df.reset_index(drop=True, inplace=True)\n",
    "similarity_df"
   ]
  },
  {
   "cell_type": "markdown",
   "id": "d0ee00fc",
   "metadata": {},
   "source": [
    "### Q7. Find the corpus vector equal to the average of all the document vectors, where each document corresponds to a tweet or a row in this dataset."
   ]
  },
  {
   "cell_type": "code",
   "execution_count": 9,
   "id": "e623b2c0",
   "metadata": {},
   "outputs": [
    {
     "name": "stdout",
     "output_type": "stream",
     "text": [
      "[-1.01065248e-01  1.13562442e-01 -1.33278277e-02 -4.37233634e-02\n",
      "  2.38086246e-02  1.81605257e-02  6.12723157e-02 -7.96386302e-02\n",
      "  1.68087631e-02  1.71301281e+00 -1.58889353e-01 -7.09819868e-02\n",
      "  1.80515531e-03 -3.41923870e-02 -7.32177794e-02  1.32191768e-02\n",
      " -6.23754598e-02  5.59716403e-01 -8.89636800e-02  5.47447689e-02\n",
      "  1.38740633e-02 -3.49752456e-02  5.93754351e-02 -7.52546191e-02\n",
      "  8.37379172e-02  3.84355895e-02 -8.71685892e-02 -4.35740985e-02\n",
      " -3.56519930e-02  1.10440873e-01 -2.27905586e-02  4.90446715e-03\n",
      " -8.56709946e-03  1.12290122e-02  8.47478770e-03 -8.92388728e-03\n",
      " -7.15297237e-02 -3.00285369e-02 -1.18787177e-01 -2.17433162e-02\n",
      "  2.82667973e-03 -8.77292547e-03 -2.61600558e-02 -8.01814497e-02\n",
      "  1.01425347e-03  8.22294801e-02 -1.10451330e-03  7.96260759e-02\n",
      " -5.27382419e-02  6.74669445e-03 -7.30925202e-02  6.89959824e-02\n",
      "  4.35188552e-03 -2.82859989e-02 -2.34459899e-02  5.00258021e-02\n",
      " -7.17234910e-02 -3.33820134e-02 -3.22896950e-02 -6.71841279e-02\n",
      " -8.43210667e-02 -5.35150282e-02 -1.31158844e-01  9.05740559e-02\n",
      "  8.84169787e-02 -3.48612219e-02 -8.93177688e-02  1.54208187e-02\n",
      "  8.77877623e-02 -3.83270644e-02  6.05540499e-02  7.77799264e-02\n",
      "  1.23702265e-01 -1.13856837e-01  6.79691881e-02 -4.28510606e-02\n",
      "  6.40411377e-02 -8.37365091e-02  9.65772420e-02  1.00908481e-01\n",
      " -4.64327773e-03  8.47638212e-03 -1.22341797e-01  2.55705696e-02\n",
      " -1.51053993e-02 -9.28961784e-02  3.18269953e-02 -2.88816750e-01\n",
      "  2.20778272e-01 -6.05595447e-02 -9.50173065e-02  4.68912981e-02\n",
      " -8.13351348e-02  1.15882441e-01  4.54987474e-02  4.41912226e-02\n",
      "  1.46102449e-02 -3.69126126e-02 -2.05778219e-02 -1.42506935e-04\n",
      "  6.48277160e-03  5.21400869e-02  4.66159807e-04 -3.15523110e-02\n",
      "  1.35641664e-01 -9.25176561e-01 -1.09521151e-02  1.28202711e-03\n",
      " -5.07220887e-02  8.21011141e-02 -5.71330972e-02 -8.03374127e-02\n",
      "  3.30942757e-02 -4.00374606e-02  8.89991596e-03 -2.56630257e-02\n",
      "  1.64692588e-02  7.55515322e-03 -4.23842818e-02 -3.91361490e-03\n",
      "  2.30471678e-02 -2.70067211e-02 -8.81744176e-03  3.24515738e-02\n",
      " -2.60472279e-02  3.29484977e-02  1.06694773e-01 -9.25434083e-02\n",
      " -2.05601305e-02 -3.29658017e-02 -2.52126735e-02 -9.71323475e-02\n",
      " -7.06912503e-02 -7.61733353e-02  4.46503349e-02  1.12872636e-02\n",
      "  1.76787674e-02  2.56535299e-02 -4.07472551e-02 -2.76442841e-02\n",
      " -9.58736360e-01  4.61583324e-02  7.47080147e-02  3.01676150e-03\n",
      "  3.31966467e-02 -9.07172188e-02 -3.51888873e-02  3.88413370e-02\n",
      " -9.53017399e-02  4.17317823e-02  7.07865506e-02  5.53503372e-02\n",
      " -2.51108594e-03 -4.80378903e-02  2.92150192e-02  3.31522785e-02\n",
      " -3.42678800e-02 -1.10907881e-02 -1.73252448e-02  5.13057550e-03\n",
      "  5.65237179e-02 -6.51483831e-04  1.64364045e-03  6.34885728e-02\n",
      " -1.86406057e-02 -1.29846156e-01 -1.78140290e-02 -1.31451383e-01\n",
      "  4.29459140e-02 -1.62998419e-02 -4.05906104e-02 -7.39307404e-02\n",
      "  9.05061662e-02 -2.64213756e-02 -1.68604217e-02 -1.59589783e-03\n",
      " -2.82254219e-02  7.11293295e-02  4.72205728e-02  3.63272578e-02\n",
      "  6.45590248e-03 -1.46298027e-02 -7.07118511e-02 -4.12150919e-02\n",
      "  1.49918841e-02  3.01694777e-02 -2.34553050e-02 -5.16989380e-02\n",
      "  1.05452254e-01  4.06684205e-02 -6.25114189e-03 -5.07279523e-02\n",
      " -8.92274678e-02 -4.36835848e-02  5.87671287e-02  5.48679829e-02\n",
      "  8.75515491e-03  4.29985151e-02  6.37318492e-02  1.41120613e-01\n",
      " -5.82226366e-02  1.80308726e-02  8.16401094e-03 -8.00942481e-02\n",
      "  1.45379305e-01  2.57187299e-02  1.05154328e-02  4.75676693e-02\n",
      "  7.16612116e-03  2.46963818e-02 -9.96517241e-02  3.54539207e-03\n",
      " -3.43308598e-02 -9.26868469e-02  5.80121763e-02  5.19509465e-02\n",
      " -7.04544187e-02 -2.09601596e-02 -9.98972431e-02  1.71302690e-03\n",
      " -2.40959525e-02  4.14863080e-02 -1.02785584e-02  3.31863463e-02\n",
      "  1.59209296e-02  5.35684600e-02 -6.86091930e-02  1.02692634e-01\n",
      " -8.39551911e-02 -8.77533183e-02 -7.02607557e-02 -1.26162067e-03\n",
      " -1.74146872e-02  4.74586152e-02 -9.06596780e-02 -1.08376950e-01\n",
      " -3.48665342e-02 -4.35833596e-02 -1.00841925e-01  6.90412298e-02\n",
      " -2.29637995e-02  4.34596241e-02  1.12835215e-02  9.86993015e-02\n",
      "  9.11761001e-02 -1.17392652e-01  4.28909920e-02 -4.68996391e-02\n",
      " -1.17645830e-01  4.15103324e-02  2.03723963e-02  3.46753635e-02\n",
      " -7.19263405e-02 -4.88574281e-02  9.83377174e-02  1.74207553e-01\n",
      "  2.47887708e-03 -2.22982001e-02 -1.29511893e-01 -5.88001199e-02\n",
      "  1.22445486e-01  1.01794116e-01  1.66611988e-02  7.05310255e-02\n",
      " -1.96979544e-03 -2.26791333e-02 -4.06017937e-02  3.08861732e-02\n",
      "  2.57291704e-01  4.48023118e-02  4.80354503e-02  5.53854508e-03\n",
      " -1.09048329e-01  2.41834354e-02  1.36610642e-02  7.51798078e-02\n",
      "  7.34087080e-02  9.50958356e-02  4.87253778e-02  1.13284759e-01\n",
      "  8.37354921e-03  1.26868328e-02 -1.05389558e-01  5.46526723e-02\n",
      " -4.07231320e-03 -6.16136938e-02  1.46921501e-01 -1.55269708e-02\n",
      "  3.75851654e-02  5.50657744e-03 -8.55213925e-02 -7.14014191e-03\n",
      " -3.01698726e-02 -8.63362700e-02  8.01845267e-02 -5.09756105e-03\n",
      " -5.21269888e-02 -8.96052178e-03 -2.47036815e-02  7.03863800e-02]\n"
     ]
    }
   ],
   "source": [
    "# Looping over the whole dataset would take a long time, so a set number of rows to examine can be placed here.\n",
    "# Any value from 1 - 162980 is valid.\n",
    "value2 = 100\n",
    "\n",
    "Twitter_Data2 = Twitter_Data.head(value2)\n",
    "\n",
    "corpus_vector = np.array([nlp(str(doc)).vector for doc in Twitter_Data2['clean_text']]).mean(axis=0)\n",
    "print(corpus_vector)"
   ]
  }
 ],
 "metadata": {
  "kernelspec": {
   "display_name": "Python 3 (ipykernel)",
   "language": "python",
   "name": "python3"
  },
  "language_info": {
   "codemirror_mode": {
    "name": "ipython",
    "version": 3
   },
   "file_extension": ".py",
   "mimetype": "text/x-python",
   "name": "python",
   "nbconvert_exporter": "python",
   "pygments_lexer": "ipython3",
   "version": "3.9.12"
  }
 },
 "nbformat": 4,
 "nbformat_minor": 5
}
