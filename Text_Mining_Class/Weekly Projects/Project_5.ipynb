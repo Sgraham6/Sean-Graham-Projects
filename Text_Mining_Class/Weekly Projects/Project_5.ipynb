{
 "cells": [
  {
   "cell_type": "markdown",
   "id": "5ef05494",
   "metadata": {},
   "source": [
    "# Project 5"
   ]
  },
  {
   "cell_type": "markdown",
   "id": "aab64cd1",
   "metadata": {},
   "source": [
    "You are a data scientist working for a Consulting Firm. You are given a dataset containing in sentiment140.csv. The data set has six columns **without header**:\n",
    "\n",
    "0. - the polarity of the tweet (0 = negative, 2 = neutral, 4 = positive)\n",
    "1. - the id of the tweet (2087)\n",
    "2. - the date of the tweet (Sat May 16 23:58:44 UTC 2009)\n",
    "3. - the query (lyx). If there is no query, then this value is NO_QUERY.\n",
    "4. - the user that tweeted (robotickilldozr)\n",
    "5. - the text of the tweet (\"Lyx is cool\")\n",
    "\n",
    "Data source: http://help.sentiment140.com/for-students\n",
    "\n",
    "Our goal is to **forecast the polarity of the tweet using the text of the tweet**."
   ]
  },
  {
   "cell_type": "code",
   "execution_count": 1,
   "id": "18f09fc8",
   "metadata": {},
   "outputs": [],
   "source": [
    "import matplotlib.pyplot as plt\n",
    "import pandas as pd\n",
    "import numpy as np\n",
    "import re\n",
    "import seaborn as sns\n",
    "import spacy\n",
    "import string\n",
    "from pprint import pprint\n",
    "from time import time\n",
    "\n",
    "from spacy.lang.en import English\n",
    "from spacy.lang.en.stop_words import STOP_WORDS\n",
    "\n",
    "from sklearn import preprocessing\n",
    "from sklearn import svm\n",
    "from sklearn.base import BaseEstimator\n",
    "from sklearn.base import TransformerMixin\n",
    "from sklearn.ensemble import RandomForestClassifier\n",
    "from sklearn.feature_extraction.text import TfidfVectorizer\n",
    "from sklearn.linear_model import LogisticRegression\n",
    "from sklearn.linear_model import SGDClassifier\n",
    "from sklearn.metrics import classification_report\n",
    "from sklearn.metrics import confusion_matrix\n",
    "from sklearn.metrics import plot_confusion_matrix\n",
    "from sklearn.model_selection import GridSearchCV\n",
    "from sklearn.model_selection import train_test_split\n",
    "from sklearn.pipeline import Pipeline\n",
    "from sklearn.tree import DecisionTreeClassifier"
   ]
  },
  {
   "cell_type": "markdown",
   "id": "936156cf",
   "metadata": {},
   "source": [
    "### Q1. Load the dataset of sentiment140.csv into memory."
   ]
  },
  {
   "cell_type": "code",
   "execution_count": 2,
   "id": "7cff4866",
   "metadata": {
    "scrolled": true
   },
   "outputs": [
    {
     "data": {
      "text/html": [
       "<div>\n",
       "<style scoped>\n",
       "    .dataframe tbody tr th:only-of-type {\n",
       "        vertical-align: middle;\n",
       "    }\n",
       "\n",
       "    .dataframe tbody tr th {\n",
       "        vertical-align: top;\n",
       "    }\n",
       "\n",
       "    .dataframe thead th {\n",
       "        text-align: right;\n",
       "    }\n",
       "</style>\n",
       "<table border=\"1\" class=\"dataframe\">\n",
       "  <thead>\n",
       "    <tr style=\"text-align: right;\">\n",
       "      <th></th>\n",
       "      <th>Polarity</th>\n",
       "      <th>ID</th>\n",
       "      <th>Date</th>\n",
       "      <th>Query</th>\n",
       "      <th>User</th>\n",
       "      <th>Text</th>\n",
       "    </tr>\n",
       "  </thead>\n",
       "  <tbody>\n",
       "    <tr>\n",
       "      <th>0</th>\n",
       "      <td>4</td>\n",
       "      <td>3</td>\n",
       "      <td>Mon May 11 03:17:40 UTC 2009</td>\n",
       "      <td>kindle2</td>\n",
       "      <td>tpryan</td>\n",
       "      <td>@stellargirl I loooooooovvvvvveee my Kindle2. ...</td>\n",
       "    </tr>\n",
       "    <tr>\n",
       "      <th>1</th>\n",
       "      <td>4</td>\n",
       "      <td>4</td>\n",
       "      <td>Mon May 11 03:18:03 UTC 2009</td>\n",
       "      <td>kindle2</td>\n",
       "      <td>vcu451</td>\n",
       "      <td>Reading my kindle2...  Love it... Lee childs i...</td>\n",
       "    </tr>\n",
       "    <tr>\n",
       "      <th>2</th>\n",
       "      <td>4</td>\n",
       "      <td>5</td>\n",
       "      <td>Mon May 11 03:18:54 UTC 2009</td>\n",
       "      <td>kindle2</td>\n",
       "      <td>chadfu</td>\n",
       "      <td>Ok, first assesment of the #kindle2 ...it fuck...</td>\n",
       "    </tr>\n",
       "    <tr>\n",
       "      <th>3</th>\n",
       "      <td>4</td>\n",
       "      <td>6</td>\n",
       "      <td>Mon May 11 03:19:04 UTC 2009</td>\n",
       "      <td>kindle2</td>\n",
       "      <td>SIX15</td>\n",
       "      <td>@kenburbary You'll love your Kindle2. I've had...</td>\n",
       "    </tr>\n",
       "    <tr>\n",
       "      <th>4</th>\n",
       "      <td>4</td>\n",
       "      <td>7</td>\n",
       "      <td>Mon May 11 03:21:41 UTC 2009</td>\n",
       "      <td>kindle2</td>\n",
       "      <td>yamarama</td>\n",
       "      <td>@mikefish  Fair enough. But i have the Kindle2...</td>\n",
       "    </tr>\n",
       "    <tr>\n",
       "      <th>5</th>\n",
       "      <td>4</td>\n",
       "      <td>8</td>\n",
       "      <td>Mon May 11 03:22:00 UTC 2009</td>\n",
       "      <td>kindle2</td>\n",
       "      <td>GeorgeVHulme</td>\n",
       "      <td>@richardebaker no. it is too big. I'm quite ha...</td>\n",
       "    </tr>\n",
       "    <tr>\n",
       "      <th>6</th>\n",
       "      <td>0</td>\n",
       "      <td>9</td>\n",
       "      <td>Mon May 11 03:22:30 UTC 2009</td>\n",
       "      <td>aig</td>\n",
       "      <td>Seth937</td>\n",
       "      <td>Fuck this economy. I hate aig and their non lo...</td>\n",
       "    </tr>\n",
       "    <tr>\n",
       "      <th>7</th>\n",
       "      <td>4</td>\n",
       "      <td>10</td>\n",
       "      <td>Mon May 11 03:26:10 UTC 2009</td>\n",
       "      <td>jquery</td>\n",
       "      <td>dcostalis</td>\n",
       "      <td>Jquery is my new best friend.</td>\n",
       "    </tr>\n",
       "    <tr>\n",
       "      <th>8</th>\n",
       "      <td>4</td>\n",
       "      <td>11</td>\n",
       "      <td>Mon May 11 03:27:15 UTC 2009</td>\n",
       "      <td>twitter</td>\n",
       "      <td>PJ_King</td>\n",
       "      <td>Loves twitter</td>\n",
       "    </tr>\n",
       "    <tr>\n",
       "      <th>9</th>\n",
       "      <td>4</td>\n",
       "      <td>12</td>\n",
       "      <td>Mon May 11 03:29:20 UTC 2009</td>\n",
       "      <td>obama</td>\n",
       "      <td>mandanicole</td>\n",
       "      <td>how can you not love Obama? he makes jokes abo...</td>\n",
       "    </tr>\n",
       "  </tbody>\n",
       "</table>\n",
       "</div>"
      ],
      "text/plain": [
       "   Polarity  ID                          Date    Query          User  \\\n",
       "0         4   3  Mon May 11 03:17:40 UTC 2009  kindle2        tpryan   \n",
       "1         4   4  Mon May 11 03:18:03 UTC 2009  kindle2        vcu451   \n",
       "2         4   5  Mon May 11 03:18:54 UTC 2009  kindle2        chadfu   \n",
       "3         4   6  Mon May 11 03:19:04 UTC 2009  kindle2         SIX15   \n",
       "4         4   7  Mon May 11 03:21:41 UTC 2009  kindle2      yamarama   \n",
       "5         4   8  Mon May 11 03:22:00 UTC 2009  kindle2  GeorgeVHulme   \n",
       "6         0   9  Mon May 11 03:22:30 UTC 2009      aig       Seth937   \n",
       "7         4  10  Mon May 11 03:26:10 UTC 2009   jquery     dcostalis   \n",
       "8         4  11  Mon May 11 03:27:15 UTC 2009  twitter       PJ_King   \n",
       "9         4  12  Mon May 11 03:29:20 UTC 2009    obama   mandanicole   \n",
       "\n",
       "                                                Text  \n",
       "0  @stellargirl I loooooooovvvvvveee my Kindle2. ...  \n",
       "1  Reading my kindle2...  Love it... Lee childs i...  \n",
       "2  Ok, first assesment of the #kindle2 ...it fuck...  \n",
       "3  @kenburbary You'll love your Kindle2. I've had...  \n",
       "4  @mikefish  Fair enough. But i have the Kindle2...  \n",
       "5  @richardebaker no. it is too big. I'm quite ha...  \n",
       "6  Fuck this economy. I hate aig and their non lo...  \n",
       "7                      Jquery is my new best friend.  \n",
       "8                                      Loves twitter  \n",
       "9  how can you not love Obama? he makes jokes abo...  "
      ]
     },
     "execution_count": 2,
     "metadata": {},
     "output_type": "execute_result"
    }
   ],
   "source": [
    "Sentiment_Data = pd.read_csv('testdata.manual.2009.06.14.csv', header = None, \n",
    "                             names = [\"Polarity\", \"ID\", \"Date\", \"Query\", \"User\", \"Text\"])\n",
    "Sentiment_Data.head(10)"
   ]
  },
  {
   "cell_type": "markdown",
   "id": "a1976c6c",
   "metadata": {},
   "source": [
    "### Q2. Clean and preprocess the texts."
   ]
  },
  {
   "cell_type": "markdown",
   "id": "e0d3dfef",
   "metadata": {},
   "source": [
    "Get info"
   ]
  },
  {
   "cell_type": "code",
   "execution_count": 3,
   "id": "dfe415a7",
   "metadata": {
    "scrolled": true
   },
   "outputs": [
    {
     "name": "stdout",
     "output_type": "stream",
     "text": [
      "<class 'pandas.core.frame.DataFrame'>\n",
      "RangeIndex: 498 entries, 0 to 497\n",
      "Data columns (total 6 columns):\n",
      " #   Column    Non-Null Count  Dtype \n",
      "---  ------    --------------  ----- \n",
      " 0   Polarity  498 non-null    int64 \n",
      " 1   ID        498 non-null    int64 \n",
      " 2   Date      498 non-null    object\n",
      " 3   Query     498 non-null    object\n",
      " 4   User      498 non-null    object\n",
      " 5   Text      498 non-null    object\n",
      "dtypes: int64(2), object(4)\n",
      "memory usage: 23.5+ KB\n"
     ]
    }
   ],
   "source": [
    "Sentiment_Data.info()"
   ]
  },
  {
   "cell_type": "code",
   "execution_count": 4,
   "id": "b58b28be",
   "metadata": {},
   "outputs": [
    {
     "data": {
      "text/plain": [
       "Polarity    0.0\n",
       "ID          0.0\n",
       "Date        0.0\n",
       "Query       0.0\n",
       "User        0.0\n",
       "Text        0.0\n",
       "dtype: float64"
      ]
     },
     "execution_count": 4,
     "metadata": {},
     "output_type": "execute_result"
    }
   ],
   "source": [
    "Missing = Sentiment_Data.isnull().sum() * 100 / len(Sentiment_Data)\n",
    "Missing"
   ]
  },
  {
   "cell_type": "markdown",
   "id": "d4412e6a",
   "metadata": {},
   "source": [
    "Concatenate texts into one feature and get info"
   ]
  },
  {
   "cell_type": "code",
   "execution_count": 5,
   "id": "d7570800",
   "metadata": {},
   "outputs": [
    {
     "name": "stdout",
     "output_type": "stream",
     "text": [
      "<class 'pandas.core.frame.DataFrame'>\n",
      "RangeIndex: 498 entries, 0 to 497\n",
      "Data columns (total 2 columns):\n",
      " #   Column    Non-Null Count  Dtype \n",
      "---  ------    --------------  ----- \n",
      " 0   Text      498 non-null    object\n",
      " 1   Polarity  498 non-null    int64 \n",
      "dtypes: int64(1), object(1)\n",
      "memory usage: 7.9+ KB\n"
     ]
    }
   ],
   "source": [
    "Columns = [\"ID\", \"Date\", \"Query\", \"User\", \"Text\"]\n",
    "Sentiment_Data['Text'] = Sentiment_Data[Columns].apply(lambda row: ' '.join(row.values.astype(str)), axis = 1)\n",
    "\n",
    "Sentiment_Data = Sentiment_Data[['Text', 'Polarity']]\n",
    "\n",
    "Sentiment_Data.info()"
   ]
  },
  {
   "cell_type": "code",
   "execution_count": 6,
   "id": "1a141fdb",
   "metadata": {},
   "outputs": [
    {
     "data": {
      "text/plain": [
       "Text        0.0\n",
       "Polarity    0.0\n",
       "dtype: float64"
      ]
     },
     "execution_count": 6,
     "metadata": {},
     "output_type": "execute_result"
    }
   ],
   "source": [
    "Missing = Sentiment_Data.isnull().sum() * 100 / len(Sentiment_Data)\n",
    "Missing"
   ]
  },
  {
   "cell_type": "markdown",
   "id": "72442aee",
   "metadata": {},
   "source": [
    "Check distribution"
   ]
  },
  {
   "cell_type": "code",
   "execution_count": 7,
   "id": "b6d6ba1e",
   "metadata": {},
   "outputs": [
    {
     "name": "stdout",
     "output_type": "stream",
     "text": [
      "4    0.365462\n",
      "0    0.355422\n",
      "2    0.279116\n",
      "Name: Polarity, dtype: float64\n"
     ]
    },
    {
     "data": {
      "text/plain": [
       "<AxesSubplot:>"
      ]
     },
     "execution_count": 7,
     "metadata": {},
     "output_type": "execute_result"
    },
    {
     "data": {
      "image/png": "[encoded data removed]",
      "text/plain": [
       "<Figure size 432x288 with 1 Axes>"
      ]
     },
     "metadata": {
      "needs_background": "light"
     },
     "output_type": "display_data"
    }
   ],
   "source": [
    "print(Sentiment_Data['Polarity'].value_counts(normalize= True))\n",
    "Sentiment_Data.Polarity.value_counts().sort_values().plot(kind = 'bar')"
   ]
  },
  {
   "cell_type": "markdown",
   "id": "d86e437b",
   "metadata": {},
   "source": [
    "Tokeniztion and Lemmatization"
   ]
  },
  {
   "cell_type": "code",
   "execution_count": 8,
   "id": "1a9ccb58",
   "metadata": {},
   "outputs": [],
   "source": [
    "nlp = spacy.load(\"en_core_web_sm\")\n",
    "\n",
    "stop_words = spacy.lang.en.stop_words.STOP_WORDS\n",
    "\n",
    "def spacy_tokenizer(sentence):\n",
    "    mytokens = nlp(sentence)\n",
    "    mytokens = [word.lemma_ for word in mytokens if word not in stop_words]\n",
    "    return mytokens   "
   ]
  },
  {
   "cell_type": "markdown",
   "id": "0ed8ce9c",
   "metadata": {},
   "source": [
    "Create a Customized Scikit-learn Transformer"
   ]
  },
  {
   "cell_type": "code",
   "execution_count": 9,
   "id": "485e6184",
   "metadata": {},
   "outputs": [],
   "source": [
    "class features(TransformerMixin):\n",
    "    def transform(self, X, **transform_params):\n",
    "        return [clean_text(text) for text in X]\n",
    "    def fit(self, X, y = None, **fit_params):\n",
    "        return self\n",
    "    def get_params(self, deep = True):\n",
    "        return {}\n",
    "\n",
    "def clean_text(text):\n",
    "    text = ' '.join(re.sub(\"(nan)|(@[A-Za-z0-9]+)|([^0-9A-Za-z \\t])|(\\w+:\\/\\/\\S+)\",\" \",text).split())\n",
    "    return text.strip().lower()   "
   ]
  },
  {
   "cell_type": "markdown",
   "id": "ccdd3b3c",
   "metadata": {},
   "source": [
    "Split Data"
   ]
  },
  {
   "cell_type": "code",
   "execution_count": 10,
   "id": "efac8f0a",
   "metadata": {},
   "outputs": [
    {
     "data": {
      "text/plain": [
       "4    0.365462\n",
       "0    0.355422\n",
       "2    0.279116\n",
       "Name: Polarity, dtype: float64"
      ]
     },
     "execution_count": 10,
     "metadata": {},
     "output_type": "execute_result"
    }
   ],
   "source": [
    "Sentiment_Data['Polarity'].value_counts(normalize = True)"
   ]
  },
  {
   "cell_type": "code",
   "execution_count": 11,
   "id": "507a5b5d",
   "metadata": {},
   "outputs": [
    {
     "data": {
      "text/plain": [
       "2    0.365462\n",
       "0    0.355422\n",
       "1    0.279116\n",
       "Name: Polarity, dtype: float64"
      ]
     },
     "execution_count": 11,
     "metadata": {},
     "output_type": "execute_result"
    }
   ],
   "source": [
    "le = preprocessing.LabelEncoder()\n",
    "  \n",
    "Sentiment_Data['Polarity'] = le.fit_transform(Sentiment_Data['Polarity'])\n",
    "Sentiment_Data['Polarity'].value_counts(normalize = True)"
   ]
  },
  {
   "cell_type": "code",
   "execution_count": 12,
   "id": "0eb4099c",
   "metadata": {},
   "outputs": [
    {
     "name": "stdout",
     "output_type": "stream",
     "text": [
      "X_train dimension: (398,); y_train dimension: (398,)\n",
      "X_test dimension: (100,); y_train dimension: (100,)\n"
     ]
    }
   ],
   "source": [
    "X = Sentiment_Data['Text']\n",
    "y = Sentiment_Data['Polarity']\n",
    "\n",
    "X_train, X_test, y_train, y_test = train_test_split(X, y, test_size = 0.2, random_state = 42, stratify = y)\n",
    "print(f'X_train dimension: {X_train.shape}; y_train dimension: {y_train.shape}')\n",
    "print(f'X_test dimension: {X_test.shape}; y_train dimension: {y_test.shape}')"
   ]
  },
  {
   "cell_type": "markdown",
   "id": "34093da0",
   "metadata": {},
   "source": [
    "### Q3 Build the first model based on pipeline using the support vector machine."
   ]
  },
  {
   "cell_type": "code",
   "execution_count": 13,
   "id": "c1706b9f",
   "metadata": {},
   "outputs": [
    {
     "name": "stdout",
     "output_type": "stream",
     "text": [
      "It takes about 2.2 seconds\n"
     ]
    }
   ],
   "source": [
    "t0 = time()\n",
    "\n",
    "tfidf_vector = TfidfVectorizer(tokenizer = spacy_tokenizer, ngram_range = (1, 1))\n",
    "classifier = svm.SVC(kernel = 'linear', C = 1.0)\n",
    "\n",
    "pipeline = Pipeline ([(\"cleaner\", features()), (\"vectorizer\", tfidf_vector), (\"classifier\", classifier)]) \n",
    "pipeline.fit(X_train, y_train)\n",
    "\n",
    "print(f\"It takes about {time() - t0:.1f} seconds\")"
   ]
  },
  {
   "cell_type": "code",
   "execution_count": 14,
   "id": "1f15c23d",
   "metadata": {},
   "outputs": [
    {
     "name": "stderr",
     "output_type": "stream",
     "text": [
      "/Users/GrahamMacbookPro/opt/anaconda3/lib/python3.9/site-packages/sklearn/utils/deprecation.py:87: FutureWarning: Function plot_confusion_matrix is deprecated; Function `plot_confusion_matrix` is deprecated in 1.0 and will be removed in 1.2. Use one of the class methods: ConfusionMatrixDisplay.from_predictions or ConfusionMatrixDisplay.from_estimator.\n",
      "  warnings.warn(msg, category=FutureWarning)\n"
     ]
    },
    {
     "name": "stdout",
     "output_type": "stream",
     "text": [
      "Confusion matrix (without normalization)\n",
      "[[27  4  4]\n",
      " [ 5 15  8]\n",
      " [ 4  4 29]]\n"
     ]
    },
    {
     "data": {
      "image/png": "[encoded data removed]",
      "text/plain": [
       "<Figure size 432x288 with 2 Axes>"
      ]
     },
     "metadata": {
      "needs_background": "light"
     },
     "output_type": "display_data"
    },
    {
     "name": "stderr",
     "output_type": "stream",
     "text": [
      "/Users/GrahamMacbookPro/opt/anaconda3/lib/python3.9/site-packages/sklearn/utils/deprecation.py:87: FutureWarning: Function plot_confusion_matrix is deprecated; Function `plot_confusion_matrix` is deprecated in 1.0 and will be removed in 1.2. Use one of the class methods: ConfusionMatrixDisplay.from_predictions or ConfusionMatrixDisplay.from_estimator.\n",
      "  warnings.warn(msg, category=FutureWarning)\n"
     ]
    },
    {
     "name": "stdout",
     "output_type": "stream",
     "text": [
      "Normalized confusion matrix\n",
      "[[0.77142857 0.11428571 0.11428571]\n",
      " [0.17857143 0.53571429 0.28571429]\n",
      " [0.10810811 0.10810811 0.78378378]]\n"
     ]
    },
    {
     "data": {
      "image/png": "[encoded data removed]",
      "text/plain": [
       "<Figure size 432x288 with 2 Axes>"
      ]
     },
     "metadata": {
      "needs_background": "light"
     },
     "output_type": "display_data"
    }
   ],
   "source": [
    "target_names = ['negative', 'neutral', 'positive']\n",
    "titles_options = [(\"Confusion matrix (without normalization)\", None), (\"Normalized confusion matrix\", 'true')]\n",
    "\n",
    "for title, normalize in titles_options:\n",
    "    disp = plot_confusion_matrix(pipeline, X_test, y_test, display_labels = target_names, \n",
    "                                 cmap = plt.cm.Blues, normalize = normalize)\n",
    "    disp.ax_.set_title(title)\n",
    "    print(title)\n",
    "    print(disp.confusion_matrix)\n",
    "    plt.show()"
   ]
  },
  {
   "cell_type": "code",
   "execution_count": 15,
   "id": "b4a7fa1e",
   "metadata": {},
   "outputs": [
    {
     "name": "stdout",
     "output_type": "stream",
     "text": [
      "              precision    recall  f1-score   support\n",
      "\n",
      "    negative       0.75      0.77      0.76        35\n",
      "     neutral       0.65      0.54      0.59        28\n",
      "    positive       0.71      0.78      0.74        37\n",
      "\n",
      "    accuracy                           0.71       100\n",
      "   macro avg       0.70      0.70      0.70       100\n",
      "weighted avg       0.71      0.71      0.71       100\n",
      "\n"
     ]
    }
   ],
   "source": [
    "y_pred = pipeline.predict(X_test)\n",
    "\n",
    "print(classification_report(y_test, y_pred, target_names = target_names))"
   ]
  },
  {
   "cell_type": "markdown",
   "id": "7bc49045",
   "metadata": {},
   "source": [
    "### Q4. Check the first model. Is it a good model based on the selected evaluation metrics? Please justify your answer."
   ]
  },
  {
   "cell_type": "markdown",
   "id": "63b1cb0b",
   "metadata": {},
   "source": [
    "Judging by the precision, recall, and f-1 scores, the model is OK, but not great, as most of these values are only between 0.70 and 0.80. The data set is relatively balanced, so the metrics shouldn't be too misleading."
   ]
  },
  {
   "cell_type": "markdown",
   "id": "6bfd4582",
   "metadata": {},
   "source": [
    "### Q5. Create the second model using pipeline, GridSearchCV for the hyperparameters for the estimators. \n",
    "(Please see all the potential parameters at  https://scikit-learn.org/stable/modules/generated/sklearn.feature_extraction.text.TfidfVectorizer.html and https://scikit-learn.org/stable/modules/generated/sklearn.svm.SVC.html)"
   ]
  },
  {
   "cell_type": "code",
   "execution_count": 16,
   "id": "ecb36b48",
   "metadata": {},
   "outputs": [
    {
     "name": "stdout",
     "output_type": "stream",
     "text": [
      "The pipeline contains: ['cleaner', 'vectorizer', 'classifier']\n",
      "The parameters are as follows:\n",
      "{'classifier__max_features': ['auto'],\n",
      " 'vectorizer__max_df': (0.5, 1.0),\n",
      " 'vectorizer__ngram_range': ((1, 1), (1, 2)),\n",
      " 'vectorizer__use_idf': (True, False)}\n",
      "Fitting 5 folds for each of 8 candidates, totalling 40 fits\n",
      "It takes about 36.1 seconds.\n",
      "\n",
      "Best score = 0.591\n",
      "Best parameters set:\n",
      "\tclassifier__max_features: 'auto'\n",
      "\tvectorizer__max_df: 0.5\n",
      "\tvectorizer__ngram_range: (1, 1)\n",
      "\tvectorizer__use_idf: False\n"
     ]
    }
   ],
   "source": [
    "pipeline = Pipeline ([(\"cleaner\", features()), (\"vectorizer\", TfidfVectorizer(tokenizer = spacy_tokenizer)),\n",
    "                 (\"classifier\", DecisionTreeClassifier())])\n",
    "parameters = {'vectorizer__max_df': (0.5, 1.0), 'vectorizer__ngram_range': ((1, 1), (1,2)),\n",
    "              'vectorizer__use_idf': (True, False), 'classifier__max_features': [\"auto\"]}\n",
    "grid_search = GridSearchCV(pipeline, parameters, n_jobs = -1, verbose = 1)\n",
    "\n",
    "print(\"The pipeline contains:\", [name for name, _ in pipeline.steps])\n",
    "print(\"The parameters are as follows:\")\n",
    "pprint(parameters)\n",
    "\n",
    "t0 = time()\n",
    "grid_search.fit(X_train, y_train)\n",
    "\n",
    "print(f\"It takes about {time() - t0:.1f} seconds.\")\n",
    "print()\n",
    "\n",
    "print(f\"Best score = {grid_search.best_score_:0.3f}\")\n",
    "print(\"Best parameters set:\")\n",
    "best_parameters = grid_search.best_estimator_.get_params()\n",
    "for param_name in sorted(parameters.keys()):\n",
    "    print(\"\\t%s: %r\" % (param_name, best_parameters[param_name]))"
   ]
  },
  {
   "cell_type": "markdown",
   "id": "00b8239a",
   "metadata": {},
   "source": [
    "### Q6. Tune the second model and perform model diagnostics. Is it a good model? Please justify your answer."
   ]
  },
  {
   "cell_type": "code",
   "execution_count": 17,
   "id": "e765d6d7",
   "metadata": {},
   "outputs": [
    {
     "name": "stderr",
     "output_type": "stream",
     "text": [
      "/Users/GrahamMacbookPro/opt/anaconda3/lib/python3.9/site-packages/sklearn/utils/deprecation.py:87: FutureWarning: Function plot_confusion_matrix is deprecated; Function `plot_confusion_matrix` is deprecated in 1.0 and will be removed in 1.2. Use one of the class methods: ConfusionMatrixDisplay.from_predictions or ConfusionMatrixDisplay.from_estimator.\n",
      "  warnings.warn(msg, category=FutureWarning)\n"
     ]
    },
    {
     "name": "stdout",
     "output_type": "stream",
     "text": [
      "Confusion matrix (without normalization)\n",
      "[[21  5  9]\n",
      " [ 7 15  6]\n",
      " [14  6 17]]\n"
     ]
    },
    {
     "data": {
      "image/png": "[encoded data removed]",
      "text/plain": [
       "<Figure size 432x288 with 2 Axes>"
      ]
     },
     "metadata": {
      "needs_background": "light"
     },
     "output_type": "display_data"
    },
    {
     "name": "stderr",
     "output_type": "stream",
     "text": [
      "/Users/GrahamMacbookPro/opt/anaconda3/lib/python3.9/site-packages/sklearn/utils/deprecation.py:87: FutureWarning: Function plot_confusion_matrix is deprecated; Function `plot_confusion_matrix` is deprecated in 1.0 and will be removed in 1.2. Use one of the class methods: ConfusionMatrixDisplay.from_predictions or ConfusionMatrixDisplay.from_estimator.\n",
      "  warnings.warn(msg, category=FutureWarning)\n"
     ]
    },
    {
     "name": "stdout",
     "output_type": "stream",
     "text": [
      "Normalized confusion matrix\n",
      "[[0.6        0.14285714 0.25714286]\n",
      " [0.25       0.53571429 0.21428571]\n",
      " [0.37837838 0.16216216 0.45945946]]\n"
     ]
    },
    {
     "data": {
      "image/png": "[encoded data removed]",
      "text/plain": [
       "<Figure size 432x288 with 2 Axes>"
      ]
     },
     "metadata": {
      "needs_background": "light"
     },
     "output_type": "display_data"
    }
   ],
   "source": [
    "target_names = ['negative', 'neutral', 'positive']\n",
    "titles_options = [(\"Confusion matrix (without normalization)\", None), (\"Normalized confusion matrix\", 'true')]\n",
    "\n",
    "for title, ndoormalize in titles_options:\n",
    "    disp = plot_confusion_matrix(grid_search, X_test, y_test, display_labels = target_names,\n",
    "                                 cmap = plt.cm.Blues, normalize = normalize)\n",
    "    disp.ax_.set_title(title)\n",
    "    print(title)\n",
    "    print(disp.confusion_matrix)\n",
    "    plt.show()"
   ]
  },
  {
   "cell_type": "code",
   "execution_count": 18,
   "id": "fa56540c",
   "metadata": {},
   "outputs": [
    {
     "name": "stdout",
     "output_type": "stream",
     "text": [
      "              precision    recall  f1-score   support\n",
      "\n",
      "    negative       0.50      0.60      0.55        35\n",
      "     neutral       0.58      0.54      0.56        28\n",
      "    positive       0.53      0.46      0.49        37\n",
      "\n",
      "    accuracy                           0.53       100\n",
      "   macro avg       0.54      0.53      0.53       100\n",
      "weighted avg       0.53      0.53      0.53       100\n",
      "\n"
     ]
    }
   ],
   "source": [
    "y_pred = grid_search.predict(X_test)\n",
    "\n",
    "print(classification_report(y_test, y_pred, target_names = target_names))"
   ]
  },
  {
   "cell_type": "markdown",
   "id": "cb6c0086",
   "metadata": {},
   "source": [
    "Judging by the precision, recall, and f-1 scores, the model is not that good, as most of these values are only between 0.50 and 0.60. As noted in question 4, the data set is relatively balanced, so the metrics shouldn't be too misleading."
   ]
  },
  {
   "cell_type": "markdown",
   "id": "ba3194a9",
   "metadata": {},
   "source": [
    "### Q7. Build the third model using pipeline, GridSearchCV, hyperparameter for the following classifiers:\n",
    "+ **Logistic regression**\n",
    "+ **Support Vector Machine**\n",
    "+ **Random Forest**"
   ]
  },
  {
   "cell_type": "code",
   "execution_count": 19,
   "id": "fac10f6a",
   "metadata": {},
   "outputs": [],
   "source": [
    "class ClfSwitcher(BaseEstimator): \n",
    "    def __init__(self, estimator = SGDClassifier()):\n",
    "        self.estimator = estimator\n",
    "    def fit(self, X, y = None, **kwargs):\n",
    "        self.estimator.fit(X, y)\n",
    "        return self\n",
    "    def predict(self, X, y = None):\n",
    "        return self.estimator.predict(X)\n",
    "    def predict_proba(self, X):\n",
    "        return self.estimator.predict_proba(X)\n",
    "    def score(self, X, y):\n",
    "        return self.estimator.score(X, y)"
   ]
  },
  {
   "cell_type": "code",
   "execution_count": 20,
   "id": "4001edfe",
   "metadata": {
    "scrolled": true
   },
   "outputs": [
    {
     "name": "stdout",
     "output_type": "stream",
     "text": [
      "The pipeline contains: ['cleaner', 'vectorizer', 'classifier']\n",
      "parameters are as follows:\n",
      "[{'classifier__estimator': [LogisticRegression()],\n",
      "  'classifier__estimator__max_iter': [100, 200],\n",
      "  'classifier__estimator__penalty': ('l2', 'l1'),\n",
      "  'classifier__estimator__solver': ['liblinear'],\n",
      "  'classifier__estimator__tol': [0.001, 0.0001],\n",
      "  'vectorizer__max_df': [1.0],\n",
      "  'vectorizer__norm': ('l1', 'l2'),\n",
      "  'vectorizer__stop_words': ['english', None],\n",
      "  'vectorizer__tokenizer': [<function spacy_tokenizer at 0x7f7b708740d0>]},\n",
      " {'classifier__estimator': [SVC(kernel='linear')],\n",
      "  'classifier__estimator__max_iter': [-1],\n",
      "  'classifier__estimator__tol': [0.001, 0.0001],\n",
      "  'vectorizer__max_df': [1.0],\n",
      "  'vectorizer__norm': ('l1', 'l2'),\n",
      "  'vectorizer__stop_words': ['english', None],\n",
      "  'vectorizer__tokenizer': [<function spacy_tokenizer at 0x7f7b708740d0>]},\n",
      " {'classifier__estimator': [RandomForestClassifier()],\n",
      "  'classifier__estimator__random_state': [5],\n",
      "  'vectorizer__max_df': [1.0],\n",
      "  'vectorizer__norm': ('l1', 'l2'),\n",
      "  'vectorizer__stop_words': ['english', None],\n",
      "  'vectorizer__tokenizer': [<function spacy_tokenizer at 0x7f7b708740d0>]}]\n",
      "Fitting 5 folds for each of 44 candidates, totalling 220 fits\n"
     ]
    },
    {
     "name": "stderr",
     "output_type": "stream",
     "text": [
      "/Users/GrahamMacbookPro/opt/anaconda3/lib/python3.9/site-packages/sklearn/feature_extraction/text.py:396: UserWarning: Your stop_words may be inconsistent with your preprocessing. Tokenizing the stop words generated tokens ['I', 'far', 'make'] not in stop_words.\n",
      "  warnings.warn(\n",
      "/Users/GrahamMacbookPro/opt/anaconda3/lib/python3.9/site-packages/sklearn/feature_extraction/text.py:396: UserWarning: Your stop_words may be inconsistent with your preprocessing. Tokenizing the stop words generated tokens ['I', 'far', 'make'] not in stop_words.\n",
      "  warnings.warn(\n",
      "/Users/GrahamMacbookPro/opt/anaconda3/lib/python3.9/site-packages/sklearn/feature_extraction/text.py:396: UserWarning: Your stop_words may be inconsistent with your preprocessing. Tokenizing the stop words generated tokens ['I', 'far', 'make'] not in stop_words.\n",
      "  warnings.warn(\n",
      "/Users/GrahamMacbookPro/opt/anaconda3/lib/python3.9/site-packages/sklearn/feature_extraction/text.py:396: UserWarning: Your stop_words may be inconsistent with your preprocessing. Tokenizing the stop words generated tokens ['I', 'far', 'make'] not in stop_words.\n",
      "  warnings.warn(\n",
      "/Users/GrahamMacbookPro/opt/anaconda3/lib/python3.9/site-packages/sklearn/feature_extraction/text.py:396: UserWarning: Your stop_words may be inconsistent with your preprocessing. Tokenizing the stop words generated tokens ['I', 'far', 'make'] not in stop_words.\n",
      "  warnings.warn(\n",
      "/Users/GrahamMacbookPro/opt/anaconda3/lib/python3.9/site-packages/sklearn/feature_extraction/text.py:396: UserWarning: Your stop_words may be inconsistent with your preprocessing. Tokenizing the stop words generated tokens ['I', 'far', 'make'] not in stop_words.\n",
      "  warnings.warn(\n",
      "/Users/GrahamMacbookPro/opt/anaconda3/lib/python3.9/site-packages/sklearn/feature_extraction/text.py:396: UserWarning: Your stop_words may be inconsistent with your preprocessing. Tokenizing the stop words generated tokens ['I', 'far', 'make'] not in stop_words.\n",
      "  warnings.warn(\n",
      "/Users/GrahamMacbookPro/opt/anaconda3/lib/python3.9/site-packages/sklearn/feature_extraction/text.py:396: UserWarning: Your stop_words may be inconsistent with your preprocessing. Tokenizing the stop words generated tokens ['I', 'far', 'make'] not in stop_words.\n",
      "  warnings.warn(\n",
      "/Users/GrahamMacbookPro/opt/anaconda3/lib/python3.9/site-packages/sklearn/feature_extraction/text.py:396: UserWarning: Your stop_words may be inconsistent with your preprocessing. Tokenizing the stop words generated tokens ['I', 'far', 'make'] not in stop_words.\n",
      "  warnings.warn(\n",
      "/Users/GrahamMacbookPro/opt/anaconda3/lib/python3.9/site-packages/sklearn/feature_extraction/text.py:396: UserWarning: Your stop_words may be inconsistent with your preprocessing. Tokenizing the stop words generated tokens ['I', 'far', 'make'] not in stop_words.\n",
      "  warnings.warn(\n",
      "/Users/GrahamMacbookPro/opt/anaconda3/lib/python3.9/site-packages/sklearn/feature_extraction/text.py:396: UserWarning: Your stop_words may be inconsistent with your preprocessing. Tokenizing the stop words generated tokens ['I', 'far', 'make'] not in stop_words.\n",
      "  warnings.warn(\n",
      "/Users/GrahamMacbookPro/opt/anaconda3/lib/python3.9/site-packages/sklearn/feature_extraction/text.py:396: UserWarning: Your stop_words may be inconsistent with your preprocessing. Tokenizing the stop words generated tokens ['I', 'far', 'make'] not in stop_words.\n",
      "  warnings.warn(\n",
      "/Users/GrahamMacbookPro/opt/anaconda3/lib/python3.9/site-packages/sklearn/feature_extraction/text.py:396: UserWarning: Your stop_words may be inconsistent with your preprocessing. Tokenizing the stop words generated tokens ['I', 'far', 'make'] not in stop_words.\n",
      "  warnings.warn(\n",
      "/Users/GrahamMacbookPro/opt/anaconda3/lib/python3.9/site-packages/sklearn/feature_extraction/text.py:396: UserWarning: Your stop_words may be inconsistent with your preprocessing. Tokenizing the stop words generated tokens ['I', 'far', 'make'] not in stop_words.\n",
      "  warnings.warn(\n",
      "/Users/GrahamMacbookPro/opt/anaconda3/lib/python3.9/site-packages/sklearn/feature_extraction/text.py:396: UserWarning: Your stop_words may be inconsistent with your preprocessing. Tokenizing the stop words generated tokens ['I', 'far', 'make'] not in stop_words.\n",
      "  warnings.warn(\n",
      "/Users/GrahamMacbookPro/opt/anaconda3/lib/python3.9/site-packages/sklearn/feature_extraction/text.py:396: UserWarning: Your stop_words may be inconsistent with your preprocessing. Tokenizing the stop words generated tokens ['I', 'far', 'make'] not in stop_words.\n",
      "  warnings.warn(\n",
      "/Users/GrahamMacbookPro/opt/anaconda3/lib/python3.9/site-packages/sklearn/feature_extraction/text.py:396: UserWarning: Your stop_words may be inconsistent with your preprocessing. Tokenizing the stop words generated tokens ['I', 'far', 'make'] not in stop_words.\n",
      "  warnings.warn(\n",
      "/Users/GrahamMacbookPro/opt/anaconda3/lib/python3.9/site-packages/sklearn/feature_extraction/text.py:396: UserWarning: Your stop_words may be inconsistent with your preprocessing. Tokenizing the stop words generated tokens ['I', 'far', 'make'] not in stop_words.\n",
      "  warnings.warn(\n",
      "/Users/GrahamMacbookPro/opt/anaconda3/lib/python3.9/site-packages/sklearn/feature_extraction/text.py:396: UserWarning: Your stop_words may be inconsistent with your preprocessing. Tokenizing the stop words generated tokens ['I', 'far', 'make'] not in stop_words.\n",
      "  warnings.warn(\n",
      "/Users/GrahamMacbookPro/opt/anaconda3/lib/python3.9/site-packages/sklearn/feature_extraction/text.py:396: UserWarning: Your stop_words may be inconsistent with your preprocessing. Tokenizing the stop words generated tokens ['I', 'far', 'make'] not in stop_words.\n",
      "  warnings.warn(\n",
      "/Users/GrahamMacbookPro/opt/anaconda3/lib/python3.9/site-packages/sklearn/feature_extraction/text.py:396: UserWarning: Your stop_words may be inconsistent with your preprocessing. Tokenizing the stop words generated tokens ['I', 'far', 'make'] not in stop_words.\n",
      "  warnings.warn(\n",
      "/Users/GrahamMacbookPro/opt/anaconda3/lib/python3.9/site-packages/sklearn/feature_extraction/text.py:396: UserWarning: Your stop_words may be inconsistent with your preprocessing. Tokenizing the stop words generated tokens ['I', 'far', 'make'] not in stop_words.\n",
      "  warnings.warn(\n",
      "/Users/GrahamMacbookPro/opt/anaconda3/lib/python3.9/site-packages/sklearn/feature_extraction/text.py:396: UserWarning: Your stop_words may be inconsistent with your preprocessing. Tokenizing the stop words generated tokens ['I', 'far', 'make'] not in stop_words.\n",
      "  warnings.warn(\n",
      "/Users/GrahamMacbookPro/opt/anaconda3/lib/python3.9/site-packages/sklearn/feature_extraction/text.py:396: UserWarning: Your stop_words may be inconsistent with your preprocessing. Tokenizing the stop words generated tokens ['I', 'far', 'make'] not in stop_words.\n",
      "  warnings.warn(\n",
      "/Users/GrahamMacbookPro/opt/anaconda3/lib/python3.9/site-packages/sklearn/feature_extraction/text.py:396: UserWarning: Your stop_words may be inconsistent with your preprocessing. Tokenizing the stop words generated tokens ['I', 'far', 'make'] not in stop_words.\n",
      "  warnings.warn(\n",
      "/Users/GrahamMacbookPro/opt/anaconda3/lib/python3.9/site-packages/sklearn/feature_extraction/text.py:396: UserWarning: Your stop_words may be inconsistent with your preprocessing. Tokenizing the stop words generated tokens ['I', 'far', 'make'] not in stop_words.\n",
      "  warnings.warn(\n",
      "/Users/GrahamMacbookPro/opt/anaconda3/lib/python3.9/site-packages/sklearn/feature_extraction/text.py:396: UserWarning: Your stop_words may be inconsistent with your preprocessing. Tokenizing the stop words generated tokens ['I', 'far', 'make'] not in stop_words.\n",
      "  warnings.warn(\n",
      "/Users/GrahamMacbookPro/opt/anaconda3/lib/python3.9/site-packages/sklearn/feature_extraction/text.py:396: UserWarning: Your stop_words may be inconsistent with your preprocessing. Tokenizing the stop words generated tokens ['I', 'far', 'make'] not in stop_words.\n",
      "  warnings.warn(\n",
      "/Users/GrahamMacbookPro/opt/anaconda3/lib/python3.9/site-packages/sklearn/feature_extraction/text.py:396: UserWarning: Your stop_words may be inconsistent with your preprocessing. Tokenizing the stop words generated tokens ['I', 'far', 'make'] not in stop_words.\n",
      "  warnings.warn(\n",
      "/Users/GrahamMacbookPro/opt/anaconda3/lib/python3.9/site-packages/sklearn/feature_extraction/text.py:396: UserWarning: Your stop_words may be inconsistent with your preprocessing. Tokenizing the stop words generated tokens ['I', 'far', 'make'] not in stop_words.\n",
      "  warnings.warn(\n"
     ]
    },
    {
     "name": "stderr",
     "output_type": "stream",
     "text": [
      "/Users/GrahamMacbookPro/opt/anaconda3/lib/python3.9/site-packages/sklearn/feature_extraction/text.py:396: UserWarning: Your stop_words may be inconsistent with your preprocessing. Tokenizing the stop words generated tokens ['I', 'far', 'make'] not in stop_words.\n",
      "  warnings.warn(\n",
      "/Users/GrahamMacbookPro/opt/anaconda3/lib/python3.9/site-packages/sklearn/feature_extraction/text.py:396: UserWarning: Your stop_words may be inconsistent with your preprocessing. Tokenizing the stop words generated tokens ['I', 'far', 'make'] not in stop_words.\n",
      "  warnings.warn(\n",
      "/Users/GrahamMacbookPro/opt/anaconda3/lib/python3.9/site-packages/sklearn/feature_extraction/text.py:396: UserWarning: Your stop_words may be inconsistent with your preprocessing. Tokenizing the stop words generated tokens ['I', 'far', 'make'] not in stop_words.\n",
      "  warnings.warn(\n",
      "/Users/GrahamMacbookPro/opt/anaconda3/lib/python3.9/site-packages/sklearn/feature_extraction/text.py:396: UserWarning: Your stop_words may be inconsistent with your preprocessing. Tokenizing the stop words generated tokens ['I', 'far', 'make'] not in stop_words.\n",
      "  warnings.warn(\n",
      "/Users/GrahamMacbookPro/opt/anaconda3/lib/python3.9/site-packages/sklearn/feature_extraction/text.py:396: UserWarning: Your stop_words may be inconsistent with your preprocessing. Tokenizing the stop words generated tokens ['I', 'far', 'make'] not in stop_words.\n",
      "  warnings.warn(\n",
      "/Users/GrahamMacbookPro/opt/anaconda3/lib/python3.9/site-packages/sklearn/feature_extraction/text.py:396: UserWarning: Your stop_words may be inconsistent with your preprocessing. Tokenizing the stop words generated tokens ['I', 'far', 'make'] not in stop_words.\n",
      "  warnings.warn(\n",
      "/Users/GrahamMacbookPro/opt/anaconda3/lib/python3.9/site-packages/sklearn/feature_extraction/text.py:396: UserWarning: Your stop_words may be inconsistent with your preprocessing. Tokenizing the stop words generated tokens ['I', 'far', 'make'] not in stop_words.\n",
      "  warnings.warn(\n",
      "/Users/GrahamMacbookPro/opt/anaconda3/lib/python3.9/site-packages/sklearn/feature_extraction/text.py:396: UserWarning: Your stop_words may be inconsistent with your preprocessing. Tokenizing the stop words generated tokens ['I', 'far', 'make'] not in stop_words.\n",
      "  warnings.warn(\n",
      "/Users/GrahamMacbookPro/opt/anaconda3/lib/python3.9/site-packages/sklearn/feature_extraction/text.py:396: UserWarning: Your stop_words may be inconsistent with your preprocessing. Tokenizing the stop words generated tokens ['I', 'far', 'make'] not in stop_words.\n",
      "  warnings.warn(\n",
      "/Users/GrahamMacbookPro/opt/anaconda3/lib/python3.9/site-packages/sklearn/feature_extraction/text.py:396: UserWarning: Your stop_words may be inconsistent with your preprocessing. Tokenizing the stop words generated tokens ['I', 'far', 'make'] not in stop_words.\n",
      "  warnings.warn(\n",
      "/Users/GrahamMacbookPro/opt/anaconda3/lib/python3.9/site-packages/sklearn/feature_extraction/text.py:396: UserWarning: Your stop_words may be inconsistent with your preprocessing. Tokenizing the stop words generated tokens ['I', 'far', 'make'] not in stop_words.\n",
      "  warnings.warn(\n",
      "/Users/GrahamMacbookPro/opt/anaconda3/lib/python3.9/site-packages/sklearn/feature_extraction/text.py:396: UserWarning: Your stop_words may be inconsistent with your preprocessing. Tokenizing the stop words generated tokens ['I', 'far', 'make'] not in stop_words.\n",
      "  warnings.warn(\n",
      "/Users/GrahamMacbookPro/opt/anaconda3/lib/python3.9/site-packages/sklearn/feature_extraction/text.py:396: UserWarning: Your stop_words may be inconsistent with your preprocessing. Tokenizing the stop words generated tokens ['I', 'far', 'make'] not in stop_words.\n",
      "  warnings.warn(\n",
      "/Users/GrahamMacbookPro/opt/anaconda3/lib/python3.9/site-packages/sklearn/feature_extraction/text.py:396: UserWarning: Your stop_words may be inconsistent with your preprocessing. Tokenizing the stop words generated tokens ['I', 'far', 'make'] not in stop_words.\n",
      "  warnings.warn(\n",
      "/Users/GrahamMacbookPro/opt/anaconda3/lib/python3.9/site-packages/sklearn/feature_extraction/text.py:396: UserWarning: Your stop_words may be inconsistent with your preprocessing. Tokenizing the stop words generated tokens ['I', 'far', 'make'] not in stop_words.\n",
      "  warnings.warn(\n",
      "/Users/GrahamMacbookPro/opt/anaconda3/lib/python3.9/site-packages/sklearn/feature_extraction/text.py:396: UserWarning: Your stop_words may be inconsistent with your preprocessing. Tokenizing the stop words generated tokens ['I', 'far', 'make'] not in stop_words.\n",
      "  warnings.warn(\n",
      "/Users/GrahamMacbookPro/opt/anaconda3/lib/python3.9/site-packages/sklearn/feature_extraction/text.py:396: UserWarning: Your stop_words may be inconsistent with your preprocessing. Tokenizing the stop words generated tokens ['I', 'far', 'make'] not in stop_words.\n",
      "  warnings.warn(\n",
      "/Users/GrahamMacbookPro/opt/anaconda3/lib/python3.9/site-packages/sklearn/feature_extraction/text.py:396: UserWarning: Your stop_words may be inconsistent with your preprocessing. Tokenizing the stop words generated tokens ['I', 'far', 'make'] not in stop_words.\n",
      "  warnings.warn(\n",
      "/Users/GrahamMacbookPro/opt/anaconda3/lib/python3.9/site-packages/sklearn/feature_extraction/text.py:396: UserWarning: Your stop_words may be inconsistent with your preprocessing. Tokenizing the stop words generated tokens ['I', 'far', 'make'] not in stop_words.\n",
      "  warnings.warn(\n",
      "/Users/GrahamMacbookPro/opt/anaconda3/lib/python3.9/site-packages/sklearn/feature_extraction/text.py:396: UserWarning: Your stop_words may be inconsistent with your preprocessing. Tokenizing the stop words generated tokens ['I', 'far', 'make'] not in stop_words.\n",
      "  warnings.warn(\n",
      "/Users/GrahamMacbookPro/opt/anaconda3/lib/python3.9/site-packages/sklearn/feature_extraction/text.py:396: UserWarning: Your stop_words may be inconsistent with your preprocessing. Tokenizing the stop words generated tokens ['I', 'far', 'make'] not in stop_words.\n",
      "  warnings.warn(\n",
      "/Users/GrahamMacbookPro/opt/anaconda3/lib/python3.9/site-packages/sklearn/feature_extraction/text.py:396: UserWarning: Your stop_words may be inconsistent with your preprocessing. Tokenizing the stop words generated tokens ['I', 'far', 'make'] not in stop_words.\n",
      "  warnings.warn(\n",
      "/Users/GrahamMacbookPro/opt/anaconda3/lib/python3.9/site-packages/sklearn/feature_extraction/text.py:396: UserWarning: Your stop_words may be inconsistent with your preprocessing. Tokenizing the stop words generated tokens ['I', 'far', 'make'] not in stop_words.\n",
      "  warnings.warn(\n",
      "/Users/GrahamMacbookPro/opt/anaconda3/lib/python3.9/site-packages/sklearn/feature_extraction/text.py:396: UserWarning: Your stop_words may be inconsistent with your preprocessing. Tokenizing the stop words generated tokens ['I', 'far', 'make'] not in stop_words.\n",
      "  warnings.warn(\n",
      "/Users/GrahamMacbookPro/opt/anaconda3/lib/python3.9/site-packages/sklearn/feature_extraction/text.py:396: UserWarning: Your stop_words may be inconsistent with your preprocessing. Tokenizing the stop words generated tokens ['I', 'far', 'make'] not in stop_words.\n",
      "  warnings.warn(\n",
      "/Users/GrahamMacbookPro/opt/anaconda3/lib/python3.9/site-packages/sklearn/feature_extraction/text.py:396: UserWarning: Your stop_words may be inconsistent with your preprocessing. Tokenizing the stop words generated tokens ['I', 'far', 'make'] not in stop_words.\n",
      "  warnings.warn(\n",
      "/Users/GrahamMacbookPro/opt/anaconda3/lib/python3.9/site-packages/sklearn/feature_extraction/text.py:396: UserWarning: Your stop_words may be inconsistent with your preprocessing. Tokenizing the stop words generated tokens ['I', 'far', 'make'] not in stop_words.\n",
      "  warnings.warn(\n",
      "/Users/GrahamMacbookPro/opt/anaconda3/lib/python3.9/site-packages/sklearn/feature_extraction/text.py:396: UserWarning: Your stop_words may be inconsistent with your preprocessing. Tokenizing the stop words generated tokens ['I', 'far', 'make'] not in stop_words.\n",
      "  warnings.warn(\n",
      "/Users/GrahamMacbookPro/opt/anaconda3/lib/python3.9/site-packages/sklearn/feature_extraction/text.py:396: UserWarning: Your stop_words may be inconsistent with your preprocessing. Tokenizing the stop words generated tokens ['I', 'far', 'make'] not in stop_words.\n",
      "  warnings.warn(\n",
      "/Users/GrahamMacbookPro/opt/anaconda3/lib/python3.9/site-packages/sklearn/feature_extraction/text.py:396: UserWarning: Your stop_words may be inconsistent with your preprocessing. Tokenizing the stop words generated tokens ['I', 'far', 'make'] not in stop_words.\n",
      "  warnings.warn(\n"
     ]
    },
    {
     "name": "stderr",
     "output_type": "stream",
     "text": [
      "/Users/GrahamMacbookPro/opt/anaconda3/lib/python3.9/site-packages/sklearn/feature_extraction/text.py:396: UserWarning: Your stop_words may be inconsistent with your preprocessing. Tokenizing the stop words generated tokens ['I', 'far', 'make'] not in stop_words.\n",
      "  warnings.warn(\n",
      "/Users/GrahamMacbookPro/opt/anaconda3/lib/python3.9/site-packages/sklearn/feature_extraction/text.py:396: UserWarning: Your stop_words may be inconsistent with your preprocessing. Tokenizing the stop words generated tokens ['I', 'far', 'make'] not in stop_words.\n",
      "  warnings.warn(\n",
      "/Users/GrahamMacbookPro/opt/anaconda3/lib/python3.9/site-packages/sklearn/feature_extraction/text.py:396: UserWarning: Your stop_words may be inconsistent with your preprocessing. Tokenizing the stop words generated tokens ['I', 'far', 'make'] not in stop_words.\n",
      "  warnings.warn(\n",
      "/Users/GrahamMacbookPro/opt/anaconda3/lib/python3.9/site-packages/sklearn/feature_extraction/text.py:396: UserWarning: Your stop_words may be inconsistent with your preprocessing. Tokenizing the stop words generated tokens ['I', 'far', 'make'] not in stop_words.\n",
      "  warnings.warn(\n",
      "/Users/GrahamMacbookPro/opt/anaconda3/lib/python3.9/site-packages/sklearn/feature_extraction/text.py:396: UserWarning: Your stop_words may be inconsistent with your preprocessing. Tokenizing the stop words generated tokens ['I', 'far', 'make'] not in stop_words.\n",
      "  warnings.warn(\n",
      "/Users/GrahamMacbookPro/opt/anaconda3/lib/python3.9/site-packages/sklearn/feature_extraction/text.py:396: UserWarning: Your stop_words may be inconsistent with your preprocessing. Tokenizing the stop words generated tokens ['I', 'far', 'make'] not in stop_words.\n",
      "  warnings.warn(\n",
      "/Users/GrahamMacbookPro/opt/anaconda3/lib/python3.9/site-packages/sklearn/feature_extraction/text.py:396: UserWarning: Your stop_words may be inconsistent with your preprocessing. Tokenizing the stop words generated tokens ['I', 'far', 'make'] not in stop_words.\n",
      "  warnings.warn(\n",
      "/Users/GrahamMacbookPro/opt/anaconda3/lib/python3.9/site-packages/sklearn/feature_extraction/text.py:396: UserWarning: Your stop_words may be inconsistent with your preprocessing. Tokenizing the stop words generated tokens ['I', 'far', 'make'] not in stop_words.\n",
      "  warnings.warn(\n",
      "/Users/GrahamMacbookPro/opt/anaconda3/lib/python3.9/site-packages/sklearn/feature_extraction/text.py:396: UserWarning: Your stop_words may be inconsistent with your preprocessing. Tokenizing the stop words generated tokens ['I', 'far', 'make'] not in stop_words.\n",
      "  warnings.warn(\n",
      "/Users/GrahamMacbookPro/opt/anaconda3/lib/python3.9/site-packages/sklearn/feature_extraction/text.py:396: UserWarning: Your stop_words may be inconsistent with your preprocessing. Tokenizing the stop words generated tokens ['I', 'far', 'make'] not in stop_words.\n",
      "  warnings.warn(\n",
      "/Users/GrahamMacbookPro/opt/anaconda3/lib/python3.9/site-packages/sklearn/feature_extraction/text.py:396: UserWarning: Your stop_words may be inconsistent with your preprocessing. Tokenizing the stop words generated tokens ['I', 'far', 'make'] not in stop_words.\n",
      "  warnings.warn(\n",
      "/Users/GrahamMacbookPro/opt/anaconda3/lib/python3.9/site-packages/sklearn/feature_extraction/text.py:396: UserWarning: Your stop_words may be inconsistent with your preprocessing. Tokenizing the stop words generated tokens ['I', 'far', 'make'] not in stop_words.\n",
      "  warnings.warn(\n",
      "/Users/GrahamMacbookPro/opt/anaconda3/lib/python3.9/site-packages/sklearn/feature_extraction/text.py:396: UserWarning: Your stop_words may be inconsistent with your preprocessing. Tokenizing the stop words generated tokens ['I', 'far', 'make'] not in stop_words.\n",
      "  warnings.warn(\n",
      "/Users/GrahamMacbookPro/opt/anaconda3/lib/python3.9/site-packages/sklearn/feature_extraction/text.py:396: UserWarning: Your stop_words may be inconsistent with your preprocessing. Tokenizing the stop words generated tokens ['I', 'far', 'make'] not in stop_words.\n",
      "  warnings.warn(\n",
      "/Users/GrahamMacbookPro/opt/anaconda3/lib/python3.9/site-packages/sklearn/feature_extraction/text.py:396: UserWarning: Your stop_words may be inconsistent with your preprocessing. Tokenizing the stop words generated tokens ['I', 'far', 'make'] not in stop_words.\n",
      "  warnings.warn(\n",
      "/Users/GrahamMacbookPro/opt/anaconda3/lib/python3.9/site-packages/sklearn/feature_extraction/text.py:396: UserWarning: Your stop_words may be inconsistent with your preprocessing. Tokenizing the stop words generated tokens ['I', 'far', 'make'] not in stop_words.\n",
      "  warnings.warn(\n",
      "/Users/GrahamMacbookPro/opt/anaconda3/lib/python3.9/site-packages/sklearn/feature_extraction/text.py:396: UserWarning: Your stop_words may be inconsistent with your preprocessing. Tokenizing the stop words generated tokens ['I', 'far', 'make'] not in stop_words.\n",
      "  warnings.warn(\n",
      "/Users/GrahamMacbookPro/opt/anaconda3/lib/python3.9/site-packages/sklearn/feature_extraction/text.py:396: UserWarning: Your stop_words may be inconsistent with your preprocessing. Tokenizing the stop words generated tokens ['I', 'far', 'make'] not in stop_words.\n",
      "  warnings.warn(\n",
      "/Users/GrahamMacbookPro/opt/anaconda3/lib/python3.9/site-packages/sklearn/feature_extraction/text.py:396: UserWarning: Your stop_words may be inconsistent with your preprocessing. Tokenizing the stop words generated tokens ['I', 'far', 'make'] not in stop_words.\n",
      "  warnings.warn(\n",
      "/Users/GrahamMacbookPro/opt/anaconda3/lib/python3.9/site-packages/sklearn/feature_extraction/text.py:396: UserWarning: Your stop_words may be inconsistent with your preprocessing. Tokenizing the stop words generated tokens ['I', 'far', 'make'] not in stop_words.\n",
      "  warnings.warn(\n",
      "/Users/GrahamMacbookPro/opt/anaconda3/lib/python3.9/site-packages/sklearn/feature_extraction/text.py:396: UserWarning: Your stop_words may be inconsistent with your preprocessing. Tokenizing the stop words generated tokens ['I', 'far', 'make'] not in stop_words.\n",
      "  warnings.warn(\n",
      "/Users/GrahamMacbookPro/opt/anaconda3/lib/python3.9/site-packages/sklearn/feature_extraction/text.py:396: UserWarning: Your stop_words may be inconsistent with your preprocessing. Tokenizing the stop words generated tokens ['I', 'far', 'make'] not in stop_words.\n",
      "  warnings.warn(\n",
      "/Users/GrahamMacbookPro/opt/anaconda3/lib/python3.9/site-packages/sklearn/feature_extraction/text.py:396: UserWarning: Your stop_words may be inconsistent with your preprocessing. Tokenizing the stop words generated tokens ['I', 'far', 'make'] not in stop_words.\n",
      "  warnings.warn(\n",
      "/Users/GrahamMacbookPro/opt/anaconda3/lib/python3.9/site-packages/sklearn/feature_extraction/text.py:396: UserWarning: Your stop_words may be inconsistent with your preprocessing. Tokenizing the stop words generated tokens ['I', 'far', 'make'] not in stop_words.\n",
      "  warnings.warn(\n",
      "/Users/GrahamMacbookPro/opt/anaconda3/lib/python3.9/site-packages/sklearn/feature_extraction/text.py:396: UserWarning: Your stop_words may be inconsistent with your preprocessing. Tokenizing the stop words generated tokens ['I', 'far', 'make'] not in stop_words.\n",
      "  warnings.warn(\n",
      "/Users/GrahamMacbookPro/opt/anaconda3/lib/python3.9/site-packages/sklearn/feature_extraction/text.py:396: UserWarning: Your stop_words may be inconsistent with your preprocessing. Tokenizing the stop words generated tokens ['I', 'far', 'make'] not in stop_words.\n",
      "  warnings.warn(\n",
      "/Users/GrahamMacbookPro/opt/anaconda3/lib/python3.9/site-packages/sklearn/feature_extraction/text.py:396: UserWarning: Your stop_words may be inconsistent with your preprocessing. Tokenizing the stop words generated tokens ['I', 'far', 'make'] not in stop_words.\n",
      "  warnings.warn(\n",
      "/Users/GrahamMacbookPro/opt/anaconda3/lib/python3.9/site-packages/sklearn/feature_extraction/text.py:396: UserWarning: Your stop_words may be inconsistent with your preprocessing. Tokenizing the stop words generated tokens ['I', 'far', 'make'] not in stop_words.\n",
      "  warnings.warn(\n",
      "/Users/GrahamMacbookPro/opt/anaconda3/lib/python3.9/site-packages/sklearn/feature_extraction/text.py:396: UserWarning: Your stop_words may be inconsistent with your preprocessing. Tokenizing the stop words generated tokens ['I', 'far', 'make'] not in stop_words.\n",
      "  warnings.warn(\n",
      "/Users/GrahamMacbookPro/opt/anaconda3/lib/python3.9/site-packages/sklearn/feature_extraction/text.py:396: UserWarning: Your stop_words may be inconsistent with your preprocessing. Tokenizing the stop words generated tokens ['I', 'far', 'make'] not in stop_words.\n",
      "  warnings.warn(\n"
     ]
    },
    {
     "name": "stderr",
     "output_type": "stream",
     "text": [
      "/Users/GrahamMacbookPro/opt/anaconda3/lib/python3.9/site-packages/sklearn/feature_extraction/text.py:396: UserWarning: Your stop_words may be inconsistent with your preprocessing. Tokenizing the stop words generated tokens ['I', 'far', 'make'] not in stop_words.\n",
      "  warnings.warn(\n",
      "/Users/GrahamMacbookPro/opt/anaconda3/lib/python3.9/site-packages/sklearn/feature_extraction/text.py:396: UserWarning: Your stop_words may be inconsistent with your preprocessing. Tokenizing the stop words generated tokens ['I', 'far', 'make'] not in stop_words.\n",
      "  warnings.warn(\n",
      "/Users/GrahamMacbookPro/opt/anaconda3/lib/python3.9/site-packages/sklearn/feature_extraction/text.py:396: UserWarning: Your stop_words may be inconsistent with your preprocessing. Tokenizing the stop words generated tokens ['I', 'far', 'make'] not in stop_words.\n",
      "  warnings.warn(\n",
      "/Users/GrahamMacbookPro/opt/anaconda3/lib/python3.9/site-packages/sklearn/feature_extraction/text.py:396: UserWarning: Your stop_words may be inconsistent with your preprocessing. Tokenizing the stop words generated tokens ['I', 'far', 'make'] not in stop_words.\n",
      "  warnings.warn(\n",
      "/Users/GrahamMacbookPro/opt/anaconda3/lib/python3.9/site-packages/sklearn/feature_extraction/text.py:396: UserWarning: Your stop_words may be inconsistent with your preprocessing. Tokenizing the stop words generated tokens ['I', 'far', 'make'] not in stop_words.\n",
      "  warnings.warn(\n",
      "/Users/GrahamMacbookPro/opt/anaconda3/lib/python3.9/site-packages/sklearn/feature_extraction/text.py:396: UserWarning: Your stop_words may be inconsistent with your preprocessing. Tokenizing the stop words generated tokens ['I', 'far', 'make'] not in stop_words.\n",
      "  warnings.warn(\n",
      "/Users/GrahamMacbookPro/opt/anaconda3/lib/python3.9/site-packages/sklearn/feature_extraction/text.py:396: UserWarning: Your stop_words may be inconsistent with your preprocessing. Tokenizing the stop words generated tokens ['I', 'far', 'make'] not in stop_words.\n",
      "  warnings.warn(\n",
      "/Users/GrahamMacbookPro/opt/anaconda3/lib/python3.9/site-packages/sklearn/feature_extraction/text.py:396: UserWarning: Your stop_words may be inconsistent with your preprocessing. Tokenizing the stop words generated tokens ['I', 'far', 'make'] not in stop_words.\n",
      "  warnings.warn(\n",
      "/Users/GrahamMacbookPro/opt/anaconda3/lib/python3.9/site-packages/sklearn/feature_extraction/text.py:396: UserWarning: Your stop_words may be inconsistent with your preprocessing. Tokenizing the stop words generated tokens ['I', 'far', 'make'] not in stop_words.\n",
      "  warnings.warn(\n",
      "/Users/GrahamMacbookPro/opt/anaconda3/lib/python3.9/site-packages/sklearn/feature_extraction/text.py:396: UserWarning: Your stop_words may be inconsistent with your preprocessing. Tokenizing the stop words generated tokens ['I', 'far', 'make'] not in stop_words.\n",
      "  warnings.warn(\n",
      "/Users/GrahamMacbookPro/opt/anaconda3/lib/python3.9/site-packages/sklearn/feature_extraction/text.py:396: UserWarning: Your stop_words may be inconsistent with your preprocessing. Tokenizing the stop words generated tokens ['I', 'far', 'make'] not in stop_words.\n",
      "  warnings.warn(\n",
      "/Users/GrahamMacbookPro/opt/anaconda3/lib/python3.9/site-packages/sklearn/feature_extraction/text.py:396: UserWarning: Your stop_words may be inconsistent with your preprocessing. Tokenizing the stop words generated tokens ['I', 'far', 'make'] not in stop_words.\n",
      "  warnings.warn(\n",
      "/Users/GrahamMacbookPro/opt/anaconda3/lib/python3.9/site-packages/sklearn/feature_extraction/text.py:396: UserWarning: Your stop_words may be inconsistent with your preprocessing. Tokenizing the stop words generated tokens ['I', 'far', 'make'] not in stop_words.\n",
      "  warnings.warn(\n",
      "/Users/GrahamMacbookPro/opt/anaconda3/lib/python3.9/site-packages/sklearn/feature_extraction/text.py:396: UserWarning: Your stop_words may be inconsistent with your preprocessing. Tokenizing the stop words generated tokens ['I', 'far', 'make'] not in stop_words.\n",
      "  warnings.warn(\n",
      "/Users/GrahamMacbookPro/opt/anaconda3/lib/python3.9/site-packages/sklearn/feature_extraction/text.py:396: UserWarning: Your stop_words may be inconsistent with your preprocessing. Tokenizing the stop words generated tokens ['I', 'far', 'make'] not in stop_words.\n",
      "  warnings.warn(\n",
      "/Users/GrahamMacbookPro/opt/anaconda3/lib/python3.9/site-packages/sklearn/feature_extraction/text.py:396: UserWarning: Your stop_words may be inconsistent with your preprocessing. Tokenizing the stop words generated tokens ['I', 'far', 'make'] not in stop_words.\n",
      "  warnings.warn(\n",
      "/Users/GrahamMacbookPro/opt/anaconda3/lib/python3.9/site-packages/sklearn/feature_extraction/text.py:396: UserWarning: Your stop_words may be inconsistent with your preprocessing. Tokenizing the stop words generated tokens ['I', 'far', 'make'] not in stop_words.\n",
      "  warnings.warn(\n",
      "/Users/GrahamMacbookPro/opt/anaconda3/lib/python3.9/site-packages/sklearn/feature_extraction/text.py:396: UserWarning: Your stop_words may be inconsistent with your preprocessing. Tokenizing the stop words generated tokens ['I', 'far', 'make'] not in stop_words.\n",
      "  warnings.warn(\n",
      "/Users/GrahamMacbookPro/opt/anaconda3/lib/python3.9/site-packages/sklearn/feature_extraction/text.py:396: UserWarning: Your stop_words may be inconsistent with your preprocessing. Tokenizing the stop words generated tokens ['I', 'far', 'make'] not in stop_words.\n",
      "  warnings.warn(\n",
      "/Users/GrahamMacbookPro/opt/anaconda3/lib/python3.9/site-packages/sklearn/feature_extraction/text.py:396: UserWarning: Your stop_words may be inconsistent with your preprocessing. Tokenizing the stop words generated tokens ['I', 'far', 'make'] not in stop_words.\n",
      "  warnings.warn(\n",
      "/Users/GrahamMacbookPro/opt/anaconda3/lib/python3.9/site-packages/sklearn/feature_extraction/text.py:396: UserWarning: Your stop_words may be inconsistent with your preprocessing. Tokenizing the stop words generated tokens ['I', 'far', 'make'] not in stop_words.\n",
      "  warnings.warn(\n"
     ]
    },
    {
     "name": "stdout",
     "output_type": "stream",
     "text": [
      "It takes about 249.105 seconds\n"
     ]
    }
   ],
   "source": [
    "pipeline = Pipeline ([(\"cleaner\", features()), (\"vectorizer\", TfidfVectorizer()), (\"classifier\", ClfSwitcher())]) \n",
    "\n",
    "parameters = [{\n",
    "        'vectorizer__tokenizer': [spacy_tokenizer],\n",
    "        'vectorizer__max_df': [1.0],\n",
    "        'vectorizer__norm': ('l1', 'l2'),\n",
    "        'vectorizer__stop_words': ['english', None],\n",
    "    \n",
    "        'classifier__estimator': [LogisticRegression()],\n",
    "        'classifier__estimator__solver': ['liblinear'],\n",
    "        'classifier__estimator__penalty': ('l2', 'l1'),\n",
    "        'classifier__estimator__max_iter': [100, 200],\n",
    "        'classifier__estimator__tol': [1e-3, 1e-4] \n",
    "    },{\n",
    "        'vectorizer__tokenizer': [spacy_tokenizer],\n",
    "        'vectorizer__max_df': [1.0],\n",
    "        'vectorizer__norm': ('l1', 'l2'),\n",
    "        'vectorizer__stop_words': ['english', None],\n",
    "    \n",
    "        'classifier__estimator': [svm.SVC(kernel = 'linear', C = 1.0)],\n",
    "        'classifier__estimator__max_iter': [-1],\n",
    "        'classifier__estimator__tol': [1e-3, 1e-4]\n",
    "    },{\n",
    "        'vectorizer__tokenizer': [spacy_tokenizer],\n",
    "        'vectorizer__max_df': [1.0],\n",
    "        'vectorizer__norm': ('l1', 'l2'),\n",
    "        'vectorizer__stop_words': ['english', None],\n",
    "    \n",
    "        'classifier__estimator': [RandomForestClassifier()],\n",
    "        'classifier__estimator__random_state': [5]\n",
    "    }]\n",
    "\n",
    "print(\"The pipeline contains:\", [name for name, _ in pipeline.steps])\n",
    "print(\"parameters are as follows:\")\n",
    "pprint(parameters)\n",
    "\n",
    "t0 = time()\n",
    "gscv = GridSearchCV(pipeline, parameters, cv = 5, n_jobs = -1, return_train_score = False, verbose = 3)\n",
    "gscv.fit(X_train, y_train)\n",
    "print(f\"It takes about {time() - t0:.3f} seconds\")"
   ]
  },
  {
   "cell_type": "code",
   "execution_count": 21,
   "id": "e004dc39",
   "metadata": {},
   "outputs": [
    {
     "name": "stdout",
     "output_type": "stream",
     "text": [
      "Best score= 0.696\n",
      "All potential classifiers:\n",
      "[\"LogisticRegression(solver='liblinear', tol=0.001)\",\n",
      " \"SVC(kernel='linear')\",\n",
      " 'RandomForestClassifier()']\n",
      "Best parameters set:\n",
      "\tclassifier__estimator: LogisticRegression(solver='liblinear', tol=0.001)\n",
      "\tclassifier__estimator__max_iter: 100\n",
      "\tclassifier__estimator__penalty: 'l2'\n",
      "\tclassifier__estimator__solver: 'liblinear'\n",
      "\tclassifier__estimator__tol: 0.001\n",
      "\tvectorizer__max_df: 1.0\n",
      "\tvectorizer__norm: 'l2'\n",
      "\tvectorizer__stop_words: 'english'\n",
      "\tvectorizer__tokenizer: <function spacy_tokenizer at 0x7f7b708740d0>\n"
     ]
    }
   ],
   "source": [
    "print(f\"Best score= {gscv.best_score_:0.3f}\")\n",
    "\n",
    "best_parameters = gscv.best_estimator_.get_params()\n",
    "\n",
    "all_classifiers = []\n",
    "for parameter in parameters:\n",
    "    all_classifiers.append(parameter['classifier__estimator'])\n",
    "all_classifiers = [str(alg) for clf in all_classifiers for alg in clf]\n",
    "print(\"All potential classifiers:\")\n",
    "pprint(all_classifiers)\n",
    "\n",
    "idx = all_classifiers.index(str(best_parameters['classifier__estimator']))\n",
    "print(\"Best parameters set:\")\n",
    "for param_name in sorted(parameters[idx].keys()):\n",
    "    print(\"\\t%s: %r\" % (param_name, best_parameters[param_name]))"
   ]
  },
  {
   "cell_type": "markdown",
   "id": "822382b1",
   "metadata": {},
   "source": [
    "###  Perform model diagnostics for the best model in Q7. Is it a good model? Please justify your answer."
   ]
  },
  {
   "cell_type": "code",
   "execution_count": 22,
   "id": "02a3e460",
   "metadata": {},
   "outputs": [
    {
     "data": {
      "image/png": "[encoded data removed]",
      "text/plain": [
       "<Figure size 432x288 with 2 Axes>"
      ]
     },
     "metadata": {
      "needs_background": "light"
     },
     "output_type": "display_data"
    },
    {
     "data": {
      "image/png": "[encoded data removed]",
      "text/plain": [
       "<Figure size 432x288 with 2 Axes>"
      ]
     },
     "metadata": {
      "needs_background": "light"
     },
     "output_type": "display_data"
    }
   ],
   "source": [
    "y_pred = gscv.predict(X_test)\n",
    "\n",
    "cm = confusion_matrix(y_test, y_pred)\n",
    "ax = plt.axes()\n",
    "sns.heatmap(cm, annot = True, fmt = 'd', xticklabels = target_names, yticklabels = target_names)\n",
    "ax.set_title(\"Confusion matrix (without normalization)\")\n",
    "\n",
    "plt.show()\n",
    "\n",
    "cm = cm / cm.astype(np.float64).sum(axis=1)[:,None]\n",
    "ax = plt.axes()\n",
    "sns.heatmap(cm, annot = True, fmt = '.2f', xticklabels = target_names, yticklabels = target_names)\n",
    "ax.set_title(\"Normalized confusion matrix\")\n",
    "\n",
    "plt.show()"
   ]
  },
  {
   "cell_type": "code",
   "execution_count": 24,
   "id": "2087f7a3",
   "metadata": {},
   "outputs": [
    {
     "name": "stdout",
     "output_type": "stream",
     "text": [
      "              precision    recall  f1-score   support\n",
      "\n",
      "    negative       0.72      0.74      0.73        35\n",
      "     neutral       0.70      0.50      0.58        28\n",
      "    positive       0.68      0.81      0.74        37\n",
      "\n",
      "    accuracy                           0.70       100\n",
      "   macro avg       0.70      0.68      0.69       100\n",
      "weighted avg       0.70      0.70      0.69       100\n",
      "\n"
     ]
    }
   ],
   "source": [
    "print(classification_report(y_test, y_pred, target_names = target_names))"
   ]
  },
  {
   "cell_type": "markdown",
   "id": "0cdace86",
   "metadata": {},
   "source": [
    "Judging by the precision, recall, and f-1 scores, the model is OK, but not great, as most of these values are only around 0.70. As noted in questions 4 and 6, the data set is relatively balanced, so the metrics shouldn't be too misleading."
   ]
  }
 ],
 "metadata": {
  "kernelspec": {
   "display_name": "Python 3 (ipykernel)",
   "language": "python",
   "name": "python3"
  },
  "language_info": {
   "codemirror_mode": {
    "name": "ipython",
    "version": 3
   },
   "file_extension": ".py",
   "mimetype": "text/x-python",
   "name": "python",
   "nbconvert_exporter": "python",
   "pygments_lexer": "ipython3",
   "version": "3.9.12"
  }
 },
 "nbformat": 4,
 "nbformat_minor": 5
}
