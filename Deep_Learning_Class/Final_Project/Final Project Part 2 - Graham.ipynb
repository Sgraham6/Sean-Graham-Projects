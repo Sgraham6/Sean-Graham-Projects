{
 "cells": [
  {
   "cell_type": "code",
   "execution_count": 1,
   "id": "07aca9ad",
   "metadata": {},
   "outputs": [],
   "source": [
    "import pandas as pd\n",
    "from sklearn import preprocessing\n",
    "import re\n",
    "from sklearn.model_selection import train_test_split\n",
    "import tensorflow as tf\n",
    "import numpy as np\n",
    "import seaborn as sns\n",
    "import matplotlib.pyplot as plt\n",
    "from sklearn.metrics import confusion_matrix, classification_report"
   ]
  },
  {
   "cell_type": "code",
   "execution_count": 2,
   "id": "11c8a70c",
   "metadata": {},
   "outputs": [],
   "source": [
    "# 1. Download the dataset that is about 25 KB from Kaggle into the local disk and unzip it."
   ]
  },
  {
   "cell_type": "code",
   "execution_count": 3,
   "id": "42746bba",
   "metadata": {},
   "outputs": [
    {
     "data": {
      "text/html": [
       "<div>\n",
       "<style scoped>\n",
       "    .dataframe tbody tr th:only-of-type {\n",
       "        vertical-align: middle;\n",
       "    }\n",
       "\n",
       "    .dataframe tbody tr th {\n",
       "        vertical-align: top;\n",
       "    }\n",
       "\n",
       "    .dataframe thead th {\n",
       "        text-align: right;\n",
       "    }\n",
       "</style>\n",
       "<table border=\"1\" class=\"dataframe\">\n",
       "  <thead>\n",
       "    <tr style=\"text-align: right;\">\n",
       "      <th></th>\n",
       "      <th>Review</th>\n",
       "      <th>Liked</th>\n",
       "    </tr>\n",
       "  </thead>\n",
       "  <tbody>\n",
       "    <tr>\n",
       "      <th>0</th>\n",
       "      <td>Wow... Loved this place.</td>\n",
       "      <td>1</td>\n",
       "    </tr>\n",
       "    <tr>\n",
       "      <th>1</th>\n",
       "      <td>Crust is not good.</td>\n",
       "      <td>0</td>\n",
       "    </tr>\n",
       "    <tr>\n",
       "      <th>2</th>\n",
       "      <td>Not tasty and the texture was just nasty.</td>\n",
       "      <td>0</td>\n",
       "    </tr>\n",
       "    <tr>\n",
       "      <th>3</th>\n",
       "      <td>Stopped by during the late May bank holiday of...</td>\n",
       "      <td>1</td>\n",
       "    </tr>\n",
       "    <tr>\n",
       "      <th>4</th>\n",
       "      <td>The selection on the menu was great and so wer...</td>\n",
       "      <td>1</td>\n",
       "    </tr>\n",
       "  </tbody>\n",
       "</table>\n",
       "</div>"
      ],
      "text/plain": [
       "                                              Review  Liked\n",
       "0                           Wow... Loved this place.      1\n",
       "1                                 Crust is not good.      0\n",
       "2          Not tasty and the texture was just nasty.      0\n",
       "3  Stopped by during the late May bank holiday of...      1\n",
       "4  The selection on the menu was great and so wer...      1"
      ]
     },
     "execution_count": 3,
     "metadata": {},
     "output_type": "execute_result"
    }
   ],
   "source": [
    "# 2. Clean and preprocess the text data and split into training and test dataset.\n",
    "review_file_path = 'C:/Users/srgra/OneDrive/Documents/Deep Learning/Homework/Final Data Part 2/Restaurant_Reviews.tsv'\n",
    "review_tsv_ds = pd.read_csv(review_file_path, sep = '\\t')\n",
    "review_tsv_ds.head()"
   ]
  },
  {
   "cell_type": "code",
   "execution_count": 4,
   "id": "ee4801e9",
   "metadata": {},
   "outputs": [
    {
     "data": {
      "text/plain": [
       "1    500\n",
       "0    500\n",
       "Name: Liked, dtype: int64"
      ]
     },
     "execution_count": 4,
     "metadata": {},
     "output_type": "execute_result"
    }
   ],
   "source": [
    "review_tsv_ds.Liked.value_counts()"
   ]
  },
  {
   "cell_type": "code",
   "execution_count": 5,
   "id": "f834e5c1",
   "metadata": {},
   "outputs": [
    {
     "data": {
      "text/html": [
       "<div>\n",
       "<style scoped>\n",
       "    .dataframe tbody tr th:only-of-type {\n",
       "        vertical-align: middle;\n",
       "    }\n",
       "\n",
       "    .dataframe tbody tr th {\n",
       "        vertical-align: top;\n",
       "    }\n",
       "\n",
       "    .dataframe thead th {\n",
       "        text-align: right;\n",
       "    }\n",
       "</style>\n",
       "<table border=\"1\" class=\"dataframe\">\n",
       "  <thead>\n",
       "    <tr style=\"text-align: right;\">\n",
       "      <th></th>\n",
       "      <th>Review</th>\n",
       "      <th>Liked</th>\n",
       "    </tr>\n",
       "  </thead>\n",
       "  <tbody>\n",
       "    <tr>\n",
       "      <th>0</th>\n",
       "      <td>Wow Loved this place</td>\n",
       "      <td>1</td>\n",
       "    </tr>\n",
       "    <tr>\n",
       "      <th>1</th>\n",
       "      <td>Crust  not good</td>\n",
       "      <td>0</td>\n",
       "    </tr>\n",
       "    <tr>\n",
       "      <th>2</th>\n",
       "      <td>Not tasty and the texture was just nasty</td>\n",
       "      <td>0</td>\n",
       "    </tr>\n",
       "    <tr>\n",
       "      <th>3</th>\n",
       "      <td>Stopped  during the late May bank holiday off ...</td>\n",
       "      <td>1</td>\n",
       "    </tr>\n",
       "    <tr>\n",
       "      <th>4</th>\n",
       "      <td>The selection  the menu was great and  were th...</td>\n",
       "      <td>1</td>\n",
       "    </tr>\n",
       "  </tbody>\n",
       "</table>\n",
       "</div>"
      ],
      "text/plain": [
       "                                              Review  Liked\n",
       "0                              Wow Loved this place       1\n",
       "1                                   Crust  not good       0\n",
       "2          Not tasty and the texture was just nasty       0\n",
       "3  Stopped  during the late May bank holiday off ...      1\n",
       "4  The selection  the menu was great and  were th...      1"
      ]
     },
     "execution_count": 5,
     "metadata": {},
     "output_type": "execute_result"
    }
   ],
   "source": [
    "review_tsv_ds['Review'] = review_tsv_ds['Review'].apply(lambda x: re.sub(r'[^A-Za-z0-9]+',' ',x))\n",
    "review_tsv_ds['Review'] = review_tsv_ds['Review'].apply(lambda x: re.sub(r\"<br />\", \" \", x))\n",
    "review_tsv_ds['Review'] = review_tsv_ds['Review'].apply(lambda x: re.sub(r'\\b[a-zA-Z]{1,2}\\b', '', x))\n",
    "review_tsv_ds.head()"
   ]
  },
  {
   "cell_type": "code",
   "execution_count": 6,
   "id": "f207edd6",
   "metadata": {},
   "outputs": [],
   "source": [
    "X = review_tsv_ds['Review'].values\n",
    "y = review_tsv_ds['Liked'].values\n",
    "X_train, X_test, y_train, y_test = train_test_split(X, y, stratify = y, test_size = 0.2)"
   ]
  },
  {
   "cell_type": "code",
   "execution_count": 7,
   "id": "e5c6f1b9",
   "metadata": {},
   "outputs": [
    {
     "name": "stdout",
     "output_type": "stream",
     "text": [
      "X_train size  = (800,); X_test size  = (200,)\n"
     ]
    }
   ],
   "source": [
    "print(f'X_train size  = {X_train.shape}; X_test size  = {X_test.shape}')"
   ]
  },
  {
   "cell_type": "code",
   "execution_count": 8,
   "id": "4e3dfe61",
   "metadata": {},
   "outputs": [],
   "source": [
    "VOCAB_SIZE = 1000\n",
    "encoder = tf.keras.layers.experimental.preprocessing.TextVectorization(max_tokens=VOCAB_SIZE)\n",
    "encoder.adapt(X_train)"
   ]
  },
  {
   "cell_type": "code",
   "execution_count": 9,
   "id": "0ecab934",
   "metadata": {},
   "outputs": [
    {
     "data": {
      "text/plain": [
       "array(['', '[UNK]', 'the', 'and', 'was', 'this', 'food', 'not', 'place',\n",
       "       'for', 'good', 'service', 'very', 'with', 'had', 'great', 'that',\n",
       "       'back', 'have', 'but'], dtype='<U17')"
      ]
     },
     "execution_count": 9,
     "metadata": {},
     "output_type": "execute_result"
    }
   ],
   "source": [
    "vocab = np.array(encoder.get_vocabulary())\n",
    "vocab[:20]"
   ]
  },
  {
   "cell_type": "code",
   "execution_count": 10,
   "id": "05106bf3",
   "metadata": {},
   "outputs": [],
   "source": [
    "# 3. Build a baseline RNN model using embedding layer and GRU on the training dataset and evaluate it on the test dataset.\n",
    "model = tf.keras.Sequential([\n",
    "    encoder,\n",
    "    tf.keras.layers.Embedding(\n",
    "        input_dim=len(encoder.get_vocabulary()),\n",
    "        output_dim=64,\n",
    "        mask_zero=True),\n",
    "    tf.keras.layers.GRU(128, return_sequences = False),\n",
    "    tf.keras.layers.Dense(64, activation='relu'),\n",
    "    tf.keras.layers.Dense(1)\n",
    "])"
   ]
  },
  {
   "cell_type": "code",
   "execution_count": 11,
   "id": "e16d3d30",
   "metadata": {},
   "outputs": [],
   "source": [
    "model.compile(loss=tf.keras.losses.BinaryCrossentropy(from_logits=True),\n",
    "              optimizer=tf.keras.optimizers.Adam(1e-4),\n",
    "              metrics=['accuracy'])"
   ]
  },
  {
   "cell_type": "code",
   "execution_count": 12,
   "id": "adf2c7a6",
   "metadata": {
    "scrolled": true
   },
   "outputs": [
    {
     "name": "stdout",
     "output_type": "stream",
     "text": [
      "Epoch 1/20\n",
      "25/25 [==============================] - 8s 103ms/step - loss: 0.6926 - accuracy: 0.5000 - val_loss: 0.6917 - val_accuracy: 0.5000\n",
      "Epoch 2/20\n",
      "25/25 [==============================] - 1s 20ms/step - loss: 0.6912 - accuracy: 0.5000 - val_loss: 0.6909 - val_accuracy: 0.5000\n",
      "Epoch 3/20\n",
      "25/25 [==============================] - 1s 20ms/step - loss: 0.6897 - accuracy: 0.5000 - val_loss: 0.6897 - val_accuracy: 0.5000\n",
      "Epoch 4/20\n",
      "25/25 [==============================] - 1s 26ms/step - loss: 0.6875 - accuracy: 0.5000 - val_loss: 0.6878 - val_accuracy: 0.5000\n",
      "Epoch 5/20\n",
      "25/25 [==============================] - 1s 21ms/step - loss: 0.6839 - accuracy: 0.5000 - val_loss: 0.6847 - val_accuracy: 0.5000\n",
      "Epoch 6/20\n",
      "25/25 [==============================] - 0s 19ms/step - loss: 0.6778 - accuracy: 0.5000 - val_loss: 0.6786 - val_accuracy: 0.5000\n",
      "Epoch 7/20\n",
      "25/25 [==============================] - 0s 19ms/step - loss: 0.6657 - accuracy: 0.5000 - val_loss: 0.6676 - val_accuracy: 0.5000\n",
      "Epoch 8/20\n",
      "25/25 [==============================] - 1s 20ms/step - loss: 0.6407 - accuracy: 0.5013 - val_loss: 0.6420 - val_accuracy: 0.5000\n",
      "Epoch 9/20\n",
      "25/25 [==============================] - 0s 18ms/step - loss: 0.5839 - accuracy: 0.5813 - val_loss: 0.5759 - val_accuracy: 0.6550\n",
      "Epoch 10/20\n",
      "25/25 [==============================] - 0s 19ms/step - loss: 0.4889 - accuracy: 0.7613 - val_loss: 0.4961 - val_accuracy: 0.7300\n",
      "Epoch 11/20\n",
      "25/25 [==============================] - 0s 20ms/step - loss: 0.3917 - accuracy: 0.8425 - val_loss: 0.4602 - val_accuracy: 0.7450\n",
      "Epoch 12/20\n",
      "25/25 [==============================] - 1s 23ms/step - loss: 0.3220 - accuracy: 0.8888 - val_loss: 0.4419 - val_accuracy: 0.7700\n",
      "Epoch 13/20\n",
      "25/25 [==============================] - 0s 19ms/step - loss: 0.2604 - accuracy: 0.9187 - val_loss: 0.4501 - val_accuracy: 0.8050\n",
      "Epoch 14/20\n",
      "25/25 [==============================] - 0s 19ms/step - loss: 0.2102 - accuracy: 0.9388 - val_loss: 0.4696 - val_accuracy: 0.7900\n",
      "Epoch 15/20\n",
      "25/25 [==============================] - 0s 20ms/step - loss: 0.1801 - accuracy: 0.9463 - val_loss: 0.4758 - val_accuracy: 0.8100\n",
      "Epoch 16/20\n",
      "25/25 [==============================] - 0s 18ms/step - loss: 0.1533 - accuracy: 0.9563 - val_loss: 0.5115 - val_accuracy: 0.8150\n",
      "Epoch 17/20\n",
      "25/25 [==============================] - 0s 18ms/step - loss: 0.1278 - accuracy: 0.9663 - val_loss: 0.5328 - val_accuracy: 0.8050\n",
      "Epoch 18/20\n",
      "25/25 [==============================] - 0s 20ms/step - loss: 0.1122 - accuracy: 0.9775 - val_loss: 0.5496 - val_accuracy: 0.7950\n",
      "Epoch 19/20\n",
      "25/25 [==============================] - 1s 25ms/step - loss: 0.0975 - accuracy: 0.9800 - val_loss: 0.5947 - val_accuracy: 0.8000\n",
      "Epoch 20/20\n",
      "25/25 [==============================] - 1s 22ms/step - loss: 0.0860 - accuracy: 0.9800 - val_loss: 0.6654 - val_accuracy: 0.7800\n",
      "CPU times: total: 47.8 s\n",
      "Wall time: 17.4 s\n"
     ]
    }
   ],
   "source": [
    "%%time\n",
    "history = model.fit(x=X_train, y=y_train, batch_size= 32, epochs= 20,\n",
    "          validation_data=(X_test,y_test), verbose= 1)"
   ]
  },
  {
   "cell_type": "code",
   "execution_count": 13,
   "id": "00c8ae7a",
   "metadata": {},
   "outputs": [
    {
     "data": {
      "text/plain": [
       "<matplotlib.legend.Legend at 0x1d625f9ae50>"
      ]
     },
     "execution_count": 13,
     "metadata": {},
     "output_type": "execute_result"
    },
    {
     "data": {
      "image/png": "[encoded data removed]",
      "text/plain": [
       "<Figure size 432x288 with 1 Axes>"
      ]
     },
     "metadata": {
      "needs_background": "light"
     },
     "output_type": "display_data"
    }
   ],
   "source": [
    "train_history = pd.DataFrame(history.history)\n",
    "train_history['epoch'] = history.epoch\n",
    "\n",
    "sns.lineplot(x='epoch', y ='loss', data =train_history)\n",
    "sns.lineplot(x='epoch', y ='val_loss', data =train_history)\n",
    "plt.legend(labels=['train_loss', 'val_loss'])"
   ]
  },
  {
   "cell_type": "code",
   "execution_count": 14,
   "id": "353a6c6a",
   "metadata": {},
   "outputs": [
    {
     "data": {
      "text/plain": [
       "<matplotlib.legend.Legend at 0x1d60fa87fd0>"
      ]
     },
     "execution_count": 14,
     "metadata": {},
     "output_type": "execute_result"
    },
    {
     "data": {
      "image/png": "[encoded data removed]",
      "text/plain": [
       "<Figure size 432x288 with 1 Axes>"
      ]
     },
     "metadata": {
      "needs_background": "light"
     },
     "output_type": "display_data"
    }
   ],
   "source": [
    "sns.lineplot(x='epoch', y ='accuracy', data =train_history)\n",
    "sns.lineplot(x='epoch', y ='val_accuracy', data =train_history)\n",
    "plt.legend(labels=['train_accuracy', 'val_accuracy'])"
   ]
  },
  {
   "cell_type": "code",
   "execution_count": 15,
   "id": "35bb529e",
   "metadata": {},
   "outputs": [],
   "source": [
    "y_pred = (model.predict(X_test) > 0.5).astype(int)"
   ]
  },
  {
   "cell_type": "code",
   "execution_count": 16,
   "id": "80dede60",
   "metadata": {},
   "outputs": [
    {
     "data": {
      "text/plain": [
       "array([[79, 21],\n",
       "       [23, 77]], dtype=int64)"
      ]
     },
     "execution_count": 16,
     "metadata": {},
     "output_type": "execute_result"
    }
   ],
   "source": [
    "confusion_matrix(y_test, y_pred)"
   ]
  },
  {
   "cell_type": "code",
   "execution_count": 17,
   "id": "ff4c54e0",
   "metadata": {},
   "outputs": [
    {
     "name": "stdout",
     "output_type": "stream",
     "text": [
      "              precision    recall  f1-score   support\n",
      "\n",
      "    negative       0.77      0.79      0.78       100\n",
      "    positive       0.79      0.77      0.78       100\n",
      "\n",
      "    accuracy                           0.78       200\n",
      "   macro avg       0.78      0.78      0.78       200\n",
      "weighted avg       0.78      0.78      0.78       200\n",
      "\n"
     ]
    }
   ],
   "source": [
    "label_names = ['negative', 'positive']\n",
    "print(classification_report(y_test, y_pred, target_names=label_names))"
   ]
  },
  {
   "cell_type": "code",
   "execution_count": 18,
   "id": "5ca92c20",
   "metadata": {},
   "outputs": [],
   "source": [
    "# 4 Build a second RNN model using embedding layer and LSTM and evaluate it on the test dataset.\n",
    "model = tf.keras.Sequential([\n",
    "    encoder, \n",
    "    tf.keras.layers.Embedding(\n",
    "        input_dim=len(encoder.get_vocabulary()),\n",
    "        output_dim=64,\n",
    "        mask_zero=True),\n",
    "    tf.keras.layers.Bidirectional(tf.keras.layers.LSTM(128)),\n",
    "    tf.keras.layers.Dense(64, activation='relu'),\n",
    "    tf.keras.layers.Dense(1)\n",
    "])"
   ]
  },
  {
   "cell_type": "code",
   "execution_count": 19,
   "id": "458c9cd1",
   "metadata": {},
   "outputs": [],
   "source": [
    "model.compile(loss=tf.keras.losses.BinaryCrossentropy(from_logits=True),\n",
    "              optimizer=tf.keras.optimizers.Adam(1e-4),\n",
    "              metrics=['accuracy'])"
   ]
  },
  {
   "cell_type": "code",
   "execution_count": 20,
   "id": "1b21419f",
   "metadata": {},
   "outputs": [
    {
     "name": "stdout",
     "output_type": "stream",
     "text": [
      "Epoch 1/20\n",
      "25/25 [==============================] - 13s 165ms/step - loss: 0.6926 - accuracy: 0.5000 - val_loss: 0.6918 - val_accuracy: 0.5000\n",
      "Epoch 2/20\n",
      "25/25 [==============================] - 1s 35ms/step - loss: 0.6912 - accuracy: 0.5000 - val_loss: 0.6905 - val_accuracy: 0.5000\n",
      "Epoch 3/20\n",
      "25/25 [==============================] - 1s 38ms/step - loss: 0.6892 - accuracy: 0.5000 - val_loss: 0.6878 - val_accuracy: 0.5000\n",
      "Epoch 4/20\n",
      "25/25 [==============================] - 1s 37ms/step - loss: 0.6852 - accuracy: 0.5000 - val_loss: 0.6830 - val_accuracy: 0.5000\n",
      "Epoch 5/20\n",
      "25/25 [==============================] - 1s 36ms/step - loss: 0.6768 - accuracy: 0.5000 - val_loss: 0.6718 - val_accuracy: 0.5000\n",
      "Epoch 6/20\n",
      "25/25 [==============================] - 1s 34ms/step - loss: 0.6558 - accuracy: 0.5000 - val_loss: 0.6438 - val_accuracy: 0.5000\n",
      "Epoch 7/20\n",
      "25/25 [==============================] - 1s 40ms/step - loss: 0.5974 - accuracy: 0.5375 - val_loss: 0.5723 - val_accuracy: 0.6050\n",
      "Epoch 8/20\n",
      "25/25 [==============================] - 1s 37ms/step - loss: 0.4889 - accuracy: 0.7188 - val_loss: 0.5090 - val_accuracy: 0.6750\n",
      "Epoch 9/20\n",
      "25/25 [==============================] - 1s 38ms/step - loss: 0.3991 - accuracy: 0.8250 - val_loss: 0.4976 - val_accuracy: 0.7500\n",
      "Epoch 10/20\n",
      "25/25 [==============================] - 1s 34ms/step - loss: 0.3444 - accuracy: 0.8863 - val_loss: 0.6102 - val_accuracy: 0.7150\n",
      "Epoch 11/20\n",
      "25/25 [==============================] - 1s 30ms/step - loss: 0.2964 - accuracy: 0.8963 - val_loss: 0.5274 - val_accuracy: 0.7850\n",
      "Epoch 12/20\n",
      "25/25 [==============================] - 1s 31ms/step - loss: 0.2433 - accuracy: 0.9237 - val_loss: 0.5518 - val_accuracy: 0.7850\n",
      "Epoch 13/20\n",
      "25/25 [==============================] - 1s 38ms/step - loss: 0.2121 - accuracy: 0.9350 - val_loss: 0.6358 - val_accuracy: 0.8050\n",
      "Epoch 14/20\n",
      "25/25 [==============================] - 1s 38ms/step - loss: 0.1819 - accuracy: 0.9513 - val_loss: 0.6401 - val_accuracy: 0.8050\n",
      "Epoch 15/20\n",
      "25/25 [==============================] - 1s 35ms/step - loss: 0.1618 - accuracy: 0.9550 - val_loss: 0.6506 - val_accuracy: 0.8100\n",
      "Epoch 16/20\n",
      "25/25 [==============================] - 1s 36ms/step - loss: 0.1416 - accuracy: 0.9638 - val_loss: 0.7043 - val_accuracy: 0.8150\n",
      "Epoch 17/20\n",
      "25/25 [==============================] - 1s 40ms/step - loss: 0.1263 - accuracy: 0.9700 - val_loss: 0.6744 - val_accuracy: 0.8150\n",
      "Epoch 18/20\n",
      "25/25 [==============================] - 1s 40ms/step - loss: 0.1150 - accuracy: 0.9737 - val_loss: 0.7334 - val_accuracy: 0.7950\n",
      "Epoch 19/20\n",
      "25/25 [==============================] - 1s 39ms/step - loss: 0.1065 - accuracy: 0.9725 - val_loss: 0.7169 - val_accuracy: 0.8200\n",
      "Epoch 20/20\n",
      "25/25 [==============================] - 1s 35ms/step - loss: 0.0953 - accuracy: 0.9800 - val_loss: 0.7745 - val_accuracy: 0.8100\n",
      "CPU times: total: 1min 45s\n",
      "Wall time: 30.6 s\n"
     ]
    }
   ],
   "source": [
    "%%time\n",
    "history = model.fit(x=X_train, y=y_train, batch_size= 32, epochs= 20,\n",
    "          validation_data=(X_test,y_test), verbose= 1)"
   ]
  },
  {
   "cell_type": "code",
   "execution_count": 21,
   "id": "02f1e1e9",
   "metadata": {},
   "outputs": [
    {
     "data": {
      "text/plain": [
       "<matplotlib.legend.Legend at 0x1d62c055b50>"
      ]
     },
     "execution_count": 21,
     "metadata": {},
     "output_type": "execute_result"
    },
    {
     "data": {
      "image/png": "[encoded data removed]",
      "text/plain": [
       "<Figure size 432x288 with 1 Axes>"
      ]
     },
     "metadata": {
      "needs_background": "light"
     },
     "output_type": "display_data"
    }
   ],
   "source": [
    "train_history = pd.DataFrame(history.history)\n",
    "train_history['epoch'] = history.epoch\n",
    "\n",
    "sns.lineplot(x='epoch', y ='loss', data =train_history)\n",
    "sns.lineplot(x='epoch', y ='val_loss', data =train_history)\n",
    "plt.legend(labels=['train_loss', 'val_loss'])"
   ]
  },
  {
   "cell_type": "code",
   "execution_count": 22,
   "id": "20e2f629",
   "metadata": {},
   "outputs": [
    {
     "data": {
      "text/plain": [
       "<matplotlib.legend.Legend at 0x1d635a5d610>"
      ]
     },
     "execution_count": 22,
     "metadata": {},
     "output_type": "execute_result"
    },
    {
     "data": {
      "image/png": "[encoded data removed]",
      "text/plain": [
       "<Figure size 432x288 with 1 Axes>"
      ]
     },
     "metadata": {
      "needs_background": "light"
     },
     "output_type": "display_data"
    }
   ],
   "source": [
    "sns.lineplot(x='epoch', y ='accuracy', data =train_history)\n",
    "sns.lineplot(x='epoch', y ='val_accuracy', data =train_history)\n",
    "plt.legend(labels=['train_accuracy', 'val_accuracy'])"
   ]
  },
  {
   "cell_type": "code",
   "execution_count": 23,
   "id": "abf1c99d",
   "metadata": {},
   "outputs": [],
   "source": [
    "y_pred = (model.predict(X_test) > 0.5).astype(int)"
   ]
  },
  {
   "cell_type": "code",
   "execution_count": 24,
   "id": "fdb0edc0",
   "metadata": {},
   "outputs": [
    {
     "data": {
      "text/plain": [
       "array([[84, 16],\n",
       "       [22, 78]], dtype=int64)"
      ]
     },
     "execution_count": 24,
     "metadata": {},
     "output_type": "execute_result"
    }
   ],
   "source": [
    "confusion_matrix(y_test, y_pred)"
   ]
  },
  {
   "cell_type": "code",
   "execution_count": 25,
   "id": "2c357c49",
   "metadata": {},
   "outputs": [
    {
     "name": "stdout",
     "output_type": "stream",
     "text": [
      "              precision    recall  f1-score   support\n",
      "\n",
      "    negative       0.79      0.84      0.82       100\n",
      "    positive       0.83      0.78      0.80       100\n",
      "\n",
      "    accuracy                           0.81       200\n",
      "   macro avg       0.81      0.81      0.81       200\n",
      "weighted avg       0.81      0.81      0.81       200\n",
      "\n"
     ]
    }
   ],
   "source": [
    "label_names = ['negative', 'positive']\n",
    "print(classification_report(y_test, y_pred, target_names=label_names))"
   ]
  },
  {
   "cell_type": "code",
   "execution_count": 26,
   "id": "38fd8646",
   "metadata": {},
   "outputs": [],
   "source": [
    "# 5 Build a third RNN model using embedding layer and GRU and LSTM and evaluate it on the test dataset.\n",
    "model = tf.keras.Sequential([\n",
    "    encoder,\n",
    "    tf.keras.layers.Embedding(\n",
    "        input_dim=len(encoder.get_vocabulary()),\n",
    "        output_dim=64,\n",
    "        mask_zero=True),\n",
    "    tf.keras.layers.GRU(128, return_sequences=True),\n",
    "    tf.keras.layers.Bidirectional(tf.keras.layers.LSTM(128)),\n",
    "    tf.keras.layers.Dense(64, activation='relu'),\n",
    "    tf.keras.layers.Dense(1)\n",
    "])"
   ]
  },
  {
   "cell_type": "code",
   "execution_count": 27,
   "id": "18c26494",
   "metadata": {},
   "outputs": [],
   "source": [
    "model.compile(loss=tf.keras.losses.BinaryCrossentropy(from_logits=True),\n",
    "              optimizer=tf.keras.optimizers.Adam(1e-4),\n",
    "              metrics=['accuracy'])"
   ]
  },
  {
   "cell_type": "code",
   "execution_count": 28,
   "id": "a150e9c4",
   "metadata": {},
   "outputs": [
    {
     "name": "stdout",
     "output_type": "stream",
     "text": [
      "Epoch 1/20\n",
      "25/25 [==============================] - 18s 244ms/step - loss: 0.6929 - accuracy: 0.5000 - val_loss: 0.6924 - val_accuracy: 0.5000\n",
      "Epoch 2/20\n",
      "25/25 [==============================] - 1s 57ms/step - loss: 0.6916 - accuracy: 0.5000 - val_loss: 0.6911 - val_accuracy: 0.5000\n",
      "Epoch 3/20\n",
      "25/25 [==============================] - 1s 58ms/step - loss: 0.6888 - accuracy: 0.5000 - val_loss: 0.6873 - val_accuracy: 0.5000\n",
      "Epoch 4/20\n",
      "25/25 [==============================] - 1s 58ms/step - loss: 0.6797 - accuracy: 0.5000 - val_loss: 0.6750 - val_accuracy: 0.5000\n",
      "Epoch 5/20\n",
      "25/25 [==============================] - 2s 62ms/step - loss: 0.6448 - accuracy: 0.5050 - val_loss: 0.6253 - val_accuracy: 0.5100\n",
      "Epoch 6/20\n",
      "25/25 [==============================] - 1s 59ms/step - loss: 0.5331 - accuracy: 0.6600 - val_loss: 0.5423 - val_accuracy: 0.6650\n",
      "Epoch 7/20\n",
      "25/25 [==============================] - 1s 57ms/step - loss: 0.4001 - accuracy: 0.8175 - val_loss: 0.5428 - val_accuracy: 0.7150\n",
      "Epoch 8/20\n",
      "25/25 [==============================] - 1s 53ms/step - loss: 0.3210 - accuracy: 0.8825 - val_loss: 0.5674 - val_accuracy: 0.7550\n",
      "Epoch 9/20\n",
      "25/25 [==============================] - 1s 53ms/step - loss: 0.2874 - accuracy: 0.8913 - val_loss: 0.5674 - val_accuracy: 0.7500\n",
      "Epoch 10/20\n",
      "25/25 [==============================] - 1s 58ms/step - loss: 0.2495 - accuracy: 0.9250 - val_loss: 0.7168 - val_accuracy: 0.7700\n",
      "Epoch 11/20\n",
      "25/25 [==============================] - 1s 59ms/step - loss: 0.2040 - accuracy: 0.9300 - val_loss: 0.6306 - val_accuracy: 0.7700\n",
      "Epoch 12/20\n",
      "25/25 [==============================] - 1s 60ms/step - loss: 0.1871 - accuracy: 0.9500 - val_loss: 0.6460 - val_accuracy: 0.7650\n",
      "Epoch 13/20\n",
      "25/25 [==============================] - 1s 59ms/step - loss: 0.1635 - accuracy: 0.9525 - val_loss: 0.7436 - val_accuracy: 0.7750\n",
      "Epoch 14/20\n",
      "25/25 [==============================] - 2s 74ms/step - loss: 0.1404 - accuracy: 0.9575 - val_loss: 0.8502 - val_accuracy: 0.7800\n",
      "Epoch 15/20\n",
      "25/25 [==============================] - 2s 72ms/step - loss: 0.1196 - accuracy: 0.9675 - val_loss: 0.8605 - val_accuracy: 0.7700\n",
      "Epoch 16/20\n",
      "25/25 [==============================] - 2s 74ms/step - loss: 0.1070 - accuracy: 0.9737 - val_loss: 0.9643 - val_accuracy: 0.7700\n",
      "Epoch 17/20\n",
      "25/25 [==============================] - 2s 75ms/step - loss: 0.0921 - accuracy: 0.9762 - val_loss: 0.9964 - val_accuracy: 0.7600\n",
      "Epoch 18/20\n",
      "25/25 [==============================] - 1s 59ms/step - loss: 0.0939 - accuracy: 0.9750 - val_loss: 1.1437 - val_accuracy: 0.7750\n",
      "Epoch 19/20\n",
      "25/25 [==============================] - 1s 55ms/step - loss: 0.0920 - accuracy: 0.9775 - val_loss: 1.0028 - val_accuracy: 0.7650\n",
      "Epoch 20/20\n",
      "25/25 [==============================] - 1s 50ms/step - loss: 0.0707 - accuracy: 0.9825 - val_loss: 1.1469 - val_accuracy: 0.7550\n",
      "CPU times: total: 2min 54s\n",
      "Wall time: 47.4 s\n"
     ]
    }
   ],
   "source": [
    "%%time\n",
    "history = model.fit(x=X_train, y=y_train, batch_size= 32, epochs= 20,\n",
    "          validation_data=(X_test,y_test), verbose= 1)"
   ]
  },
  {
   "cell_type": "code",
   "execution_count": 29,
   "id": "bedeff2e",
   "metadata": {},
   "outputs": [
    {
     "data": {
      "text/plain": [
       "<matplotlib.legend.Legend at 0x1d637d1e3d0>"
      ]
     },
     "execution_count": 29,
     "metadata": {},
     "output_type": "execute_result"
    },
    {
     "data": {
      "image/png": "[encoded data removed]",
      "text/plain": [
       "<Figure size 432x288 with 1 Axes>"
      ]
     },
     "metadata": {
      "needs_background": "light"
     },
     "output_type": "display_data"
    }
   ],
   "source": [
    "train_history = pd.DataFrame(history.history)\n",
    "train_history['epoch'] = history.epoch\n",
    "\n",
    "sns.lineplot(x='epoch', y ='loss', data =train_history)\n",
    "sns.lineplot(x='epoch', y ='val_loss', data =train_history)\n",
    "plt.legend(labels=['train_loss', 'val_loss'])"
   ]
  },
  {
   "cell_type": "code",
   "execution_count": 30,
   "id": "3f6eb6d4",
   "metadata": {},
   "outputs": [
    {
     "data": {
      "text/plain": [
       "<matplotlib.legend.Legend at 0x1d64d133d60>"
      ]
     },
     "execution_count": 30,
     "metadata": {},
     "output_type": "execute_result"
    },
    {
     "data": {
      "image/png": "[encoded data removed]",
      "text/plain": [
       "<Figure size 432x288 with 1 Axes>"
      ]
     },
     "metadata": {
      "needs_background": "light"
     },
     "output_type": "display_data"
    }
   ],
   "source": [
    "sns.lineplot(x='epoch', y ='accuracy', data =train_history)\n",
    "sns.lineplot(x='epoch', y ='val_accuracy', data =train_history)\n",
    "plt.legend(labels=['train_accuracy', 'val_accuracy'])"
   ]
  },
  {
   "cell_type": "code",
   "execution_count": 31,
   "id": "3f97ecc3",
   "metadata": {},
   "outputs": [],
   "source": [
    "y_pred = (model.predict(X_test) > 0.5).astype(int)"
   ]
  },
  {
   "cell_type": "code",
   "execution_count": 32,
   "id": "1fca0e58",
   "metadata": {},
   "outputs": [
    {
     "data": {
      "text/plain": [
       "array([[78, 22],\n",
       "       [27, 73]], dtype=int64)"
      ]
     },
     "execution_count": 32,
     "metadata": {},
     "output_type": "execute_result"
    }
   ],
   "source": [
    "confusion_matrix(y_test, y_pred)"
   ]
  },
  {
   "cell_type": "code",
   "execution_count": 33,
   "id": "cade7a5a",
   "metadata": {},
   "outputs": [
    {
     "name": "stdout",
     "output_type": "stream",
     "text": [
      "              precision    recall  f1-score   support\n",
      "\n",
      "    negative       0.74      0.78      0.76       100\n",
      "    positive       0.77      0.73      0.75       100\n",
      "\n",
      "    accuracy                           0.76       200\n",
      "   macro avg       0.76      0.76      0.75       200\n",
      "weighted avg       0.76      0.76      0.75       200\n",
      "\n"
     ]
    }
   ],
   "source": [
    "label_names = ['negative', 'positive']\n",
    "print(classification_report(y_test, y_pred, target_names=label_names))"
   ]
  },
  {
   "cell_type": "code",
   "execution_count": 34,
   "id": "8386ffa6",
   "metadata": {},
   "outputs": [],
   "source": [
    "# 6 Which model do you recommend for the model in Q3, Q4, and Q5? Justify your answer.\n",
    "# I would recommend the model from Q4, as the accuracy was 0.81. The accuracy of Q3 was only 0.78, and the accuracy of Q5 was\n",
    "# only 0.76."
   ]
  }
 ],
 "metadata": {
  "kernelspec": {
   "display_name": "Python 3 (ipykernel)",
   "language": "python",
   "name": "python3"
  },
  "language_info": {
   "codemirror_mode": {
    "name": "ipython",
    "version": 3
   },
   "file_extension": ".py",
   "mimetype": "text/x-python",
   "name": "python",
   "nbconvert_exporter": "python",
   "pygments_lexer": "ipython3",
   "version": "3.9.7"
  }
 },
 "nbformat": 4,
 "nbformat_minor": 5
}
