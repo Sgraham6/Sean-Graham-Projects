{
 "cells": [
  {
   "cell_type": "code",
   "execution_count": 1,
   "id": "0683e301",
   "metadata": {},
   "outputs": [],
   "source": [
    "import numpy as np\n",
    "import pandas as pd\n",
    "import matplotlib.pyplot as plt\n",
    "import seaborn as sns\n",
    "\n",
    "import tensorflow as tf\n",
    "from tensorflow.keras import datasets, layers, models\n",
    "\n",
    "from sklearn.metrics import classification_report"
   ]
  },
  {
   "cell_type": "code",
   "execution_count": 2,
   "id": "647e70a3",
   "metadata": {},
   "outputs": [],
   "source": [
    "# 1 Load the data using the following codes:\n",
    "mnist = tf.keras.datasets.mnist\n",
    "\n",
    "(x_train, y_train), (x_test, y_test) = mnist.load_data()\n",
    "x_train, x_test = x_train / 255.0, x_test / 255.0\n",
    "# Note, they are black and white images with only 1 channel instead of 3. Each image size is (28,28) with one channel"
   ]
  },
  {
   "cell_type": "code",
   "execution_count": 3,
   "id": "dcdb8456",
   "metadata": {},
   "outputs": [],
   "source": [
    "# 2. Build the first model try different type of convolution and maxpooling layer. What's the test error."
   ]
  },
  {
   "cell_type": "code",
   "execution_count": 4,
   "id": "d0c51900",
   "metadata": {},
   "outputs": [
    {
     "name": "stdout",
     "output_type": "stream",
     "text": [
      "x_train.shape = (60000, 28, 28); y_train.shape = (60000,)\n",
      "x_test.shape = (10000, 28, 28); y_test.shape = (10000,)\n"
     ]
    }
   ],
   "source": [
    "print(f'x_train.shape = {x_train.shape}; y_train.shape = {y_train.shape}')\n",
    "print(f'x_test.shape = {x_test.shape}; y_test.shape = {y_test.shape}')"
   ]
  },
  {
   "cell_type": "code",
   "execution_count": 5,
   "id": "3fa87577",
   "metadata": {},
   "outputs": [
    {
     "name": "stdout",
     "output_type": "stream",
     "text": [
      "The input shape = (28, 28)\n"
     ]
    }
   ],
   "source": [
    "model = models.Sequential()\n",
    "\n",
    "input_shape = x_train.shape[1:]\n",
    "\n",
    "print(f'The input shape = {input_shape}')"
   ]
  },
  {
   "cell_type": "code",
   "execution_count": 6,
   "id": "63b4dda3",
   "metadata": {},
   "outputs": [],
   "source": [
    "model.add(layers.Conv1D(32, 3, activation='relu', input_shape= input_shape))\n",
    "model.add(layers.MaxPooling1D(2))\n",
    "model.add(layers.Conv1D(64, 3, activation='relu'))\n",
    "model.add(layers.MaxPooling1D(2))\n",
    "model.add(layers.Conv1D(64, 3, activation='relu'))\n",
    "model.add(layers.Conv1D(64, 2, activation='relu'))"
   ]
  },
  {
   "cell_type": "code",
   "execution_count": 7,
   "id": "81b27772",
   "metadata": {},
   "outputs": [],
   "source": [
    "model.add(layers.Flatten())\n",
    "\n",
    "model.add(layers.Dense(64, activation='relu'))\n",
    "model.add(layers.Dropout(0.2))\n",
    "model.add(layers.Dense(10))"
   ]
  },
  {
   "cell_type": "code",
   "execution_count": 8,
   "id": "47eb73ef",
   "metadata": {},
   "outputs": [
    {
     "name": "stdout",
     "output_type": "stream",
     "text": [
      "Model: \"sequential\"\n",
      "_________________________________________________________________\n",
      " Layer (type)                Output Shape              Param #   \n",
      "=================================================================\n",
      " conv1d (Conv1D)             (None, 26, 32)            2720      \n",
      "                                                                 \n",
      " max_pooling1d (MaxPooling1D  (None, 13, 32)           0         \n",
      " )                                                               \n",
      "                                                                 \n",
      " conv1d_1 (Conv1D)           (None, 11, 64)            6208      \n",
      "                                                                 \n",
      " max_pooling1d_1 (MaxPooling  (None, 5, 64)            0         \n",
      " 1D)                                                             \n",
      "                                                                 \n",
      " conv1d_2 (Conv1D)           (None, 3, 64)             12352     \n",
      "                                                                 \n",
      " conv1d_3 (Conv1D)           (None, 2, 64)             8256      \n",
      "                                                                 \n",
      " flatten (Flatten)           (None, 128)               0         \n",
      "                                                                 \n",
      " dense (Dense)               (None, 64)                8256      \n",
      "                                                                 \n",
      " dropout (Dropout)           (None, 64)                0         \n",
      "                                                                 \n",
      " dense_1 (Dense)             (None, 10)                650       \n",
      "                                                                 \n",
      "=================================================================\n",
      "Total params: 38,442\n",
      "Trainable params: 38,442\n",
      "Non-trainable params: 0\n",
      "_________________________________________________________________\n"
     ]
    }
   ],
   "source": [
    "model.summary()"
   ]
  },
  {
   "cell_type": "code",
   "execution_count": 9,
   "id": "1cf09fff",
   "metadata": {},
   "outputs": [],
   "source": [
    "model.compile(optimizer='adam', loss=tf.keras.losses.SparseCategoricalCrossentropy(from_logits=True), metrics=['accuracy'])"
   ]
  },
  {
   "cell_type": "code",
   "execution_count": 10,
   "id": "a7b0c418",
   "metadata": {},
   "outputs": [
    {
     "name": "stdout",
     "output_type": "stream",
     "text": [
      "Epoch 1/20\n",
      "1875/1875 [==============================] - 14s 7ms/step - loss: 0.2603 - accuracy: 0.9205 - val_loss: 0.0890 - val_accuracy: 0.9721\n",
      "Epoch 2/20\n",
      "1875/1875 [==============================] - 13s 7ms/step - loss: 0.0944 - accuracy: 0.9728 - val_loss: 0.0559 - val_accuracy: 0.9826\n",
      "Epoch 3/20\n",
      "1875/1875 [==============================] - 12s 6ms/step - loss: 0.0687 - accuracy: 0.9795 - val_loss: 0.0622 - val_accuracy: 0.9815\n",
      "Epoch 4/20\n",
      "1875/1875 [==============================] - 12s 6ms/step - loss: 0.0559 - accuracy: 0.9832 - val_loss: 0.0514 - val_accuracy: 0.9840\n",
      "Epoch 5/20\n",
      "1875/1875 [==============================] - 12s 7ms/step - loss: 0.0467 - accuracy: 0.9863 - val_loss: 0.0646 - val_accuracy: 0.9809\n",
      "Epoch 6/20\n",
      "1875/1875 [==============================] - 12s 6ms/step - loss: 0.0402 - accuracy: 0.9875 - val_loss: 0.0467 - val_accuracy: 0.9863\n",
      "Epoch 7/20\n",
      "1875/1875 [==============================] - 12s 7ms/step - loss: 0.0353 - accuracy: 0.9896 - val_loss: 0.0552 - val_accuracy: 0.9845\n",
      "Epoch 8/20\n",
      "1875/1875 [==============================] - 12s 6ms/step - loss: 0.0322 - accuracy: 0.9903 - val_loss: 0.0445 - val_accuracy: 0.9876\n",
      "Epoch 9/20\n",
      "1875/1875 [==============================] - 12s 7ms/step - loss: 0.0294 - accuracy: 0.9906 - val_loss: 0.0646 - val_accuracy: 0.9835\n",
      "Epoch 10/20\n",
      "1875/1875 [==============================] - 12s 6ms/step - loss: 0.0251 - accuracy: 0.9923 - val_loss: 0.0600 - val_accuracy: 0.9854\n",
      "Epoch 11/20\n",
      "1875/1875 [==============================] - 12s 7ms/step - loss: 0.0229 - accuracy: 0.9931 - val_loss: 0.0636 - val_accuracy: 0.9865\n",
      "Wall time: 2min 16s\n"
     ]
    }
   ],
   "source": [
    "%%time\n",
    "\n",
    "callback = tf.keras.callbacks.EarlyStopping(monitor='val_accuracy', patience= 3)\n",
    "history = model.fit(x_train, y_train, epochs=20, \n",
    "                    validation_data=(x_test, y_test), callbacks=[callback], verbose = 1)"
   ]
  },
  {
   "cell_type": "code",
   "execution_count": 11,
   "id": "46357fc4",
   "metadata": {},
   "outputs": [
    {
     "data": {
      "text/plain": [
       "<matplotlib.legend.Legend at 0x25622f38ca0>"
      ]
     },
     "execution_count": 11,
     "metadata": {},
     "output_type": "execute_result"
    },
    {
     "data": {
      "image/png": "[encoded data removed]",
      "text/plain": [
       "<Figure size 432x288 with 1 Axes>"
      ]
     },
     "metadata": {
      "needs_background": "light"
     },
     "output_type": "display_data"
    }
   ],
   "source": [
    "train_history = pd.DataFrame(history.history)\n",
    "train_history['epoch'] = history.epoch\n",
    "\n",
    "sns.lineplot(x='epoch', y ='loss', data =train_history)\n",
    "sns.lineplot(x='epoch', y ='val_loss', data =train_history)\n",
    "plt.legend(labels=['train_loss', 'val_loss'])"
   ]
  },
  {
   "cell_type": "code",
   "execution_count": 12,
   "id": "9edd7177",
   "metadata": {},
   "outputs": [
    {
     "data": {
      "text/plain": [
       "<matplotlib.legend.Legend at 0x256254a7c70>"
      ]
     },
     "execution_count": 12,
     "metadata": {},
     "output_type": "execute_result"
    },
    {
     "data": {
      "image/png": "[encoded data removed]",
      "text/plain": [
       "<Figure size 432x288 with 1 Axes>"
      ]
     },
     "metadata": {
      "needs_background": "light"
     },
     "output_type": "display_data"
    }
   ],
   "source": [
    "sns.lineplot(x='epoch', y ='accuracy', data =train_history)\n",
    "sns.lineplot(x='epoch', y ='val_accuracy', data =train_history)\n",
    "plt.legend(labels=['train_accuracy', 'val_accuracy'])"
   ]
  },
  {
   "cell_type": "code",
   "execution_count": 13,
   "id": "cf00a884",
   "metadata": {},
   "outputs": [
    {
     "name": "stdout",
     "output_type": "stream",
     "text": [
      " The test loss = 0.06 and test accuracy = 0.99\n"
     ]
    }
   ],
   "source": [
    "test_loss, test_acc = model.evaluate(x_test, y_test, verbose=0)\n",
    "print(f' The test loss = {test_loss:.2f} and test accuracy = {test_acc:.2f}')"
   ]
  },
  {
   "cell_type": "code",
   "execution_count": 14,
   "id": "fd8e2b73",
   "metadata": {},
   "outputs": [
    {
     "name": "stdout",
     "output_type": "stream",
     "text": [
      "              precision    recall  f1-score   support\n",
      "\n",
      "           0       0.99      0.99      0.99       980\n",
      "           1       1.00      0.99      1.00      1135\n",
      "           2       0.97      0.99      0.98      1032\n",
      "           3       0.99      0.98      0.98      1010\n",
      "           4       0.98      0.99      0.98       982\n",
      "           5       0.99      0.98      0.98       892\n",
      "           6       0.99      0.98      0.99       958\n",
      "           7       0.98      0.98      0.98      1028\n",
      "           8       0.99      0.98      0.99       974\n",
      "           9       0.99      0.98      0.98      1009\n",
      "\n",
      "    accuracy                           0.99     10000\n",
      "   macro avg       0.99      0.99      0.99     10000\n",
      "weighted avg       0.99      0.99      0.99     10000\n",
      "\n"
     ]
    }
   ],
   "source": [
    "y_pred_prob = model.predict(x_test)\n",
    "score = tf.nn.softmax(y_pred_prob)\n",
    "y_pred = np.argmax(score, axis = 1)\n",
    "print(classification_report (y_test, y_pred))"
   ]
  },
  {
   "cell_type": "markdown",
   "id": "d9fc4525",
   "metadata": {},
   "source": [
    "The dataset appears to be balanced, meaning we focus on accuracy (which is 0.99). The test error is 1 - 0.99% = 1%."
   ]
  },
  {
   "cell_type": "code",
   "execution_count": 15,
   "id": "3b3ead7a",
   "metadata": {},
   "outputs": [],
   "source": [
    "# 3. Build a second model using different type of convolution and maxpooling layer. What's the test error"
   ]
  },
  {
   "cell_type": "code",
   "execution_count": 16,
   "id": "69240a70",
   "metadata": {},
   "outputs": [],
   "source": [
    "model = models.Sequential()"
   ]
  },
  {
   "cell_type": "code",
   "execution_count": 17,
   "id": "50c1746d",
   "metadata": {},
   "outputs": [],
   "source": [
    "model.add(layers.SeparableConv1D(32, 3, activation='relu', input_shape = input_shape))\n",
    "model.add(layers.AveragePooling1D(2))\n",
    "model.add(layers.SeparableConv1D(64, 3, activation='relu'))\n",
    "model.add(layers.AveragePooling1D(2))\n",
    "model.add(layers.SeparableConv1D(64, 3, activation='relu'))\n",
    "model.add(layers.SeparableConv1D(64, 2, activation='relu'))"
   ]
  },
  {
   "cell_type": "code",
   "execution_count": 18,
   "id": "e233d4bf",
   "metadata": {},
   "outputs": [],
   "source": [
    "model.add(layers.Flatten())\n",
    "\n",
    "model.add(layers.Dense(64, activation='relu'))\n",
    "model.add(layers.Dropout(0.2))\n",
    "model.add(layers.Dense(10))"
   ]
  },
  {
   "cell_type": "code",
   "execution_count": 19,
   "id": "86a5f7dc",
   "metadata": {},
   "outputs": [
    {
     "name": "stdout",
     "output_type": "stream",
     "text": [
      "Model: \"sequential_1\"\n",
      "_________________________________________________________________\n",
      " Layer (type)                Output Shape              Param #   \n",
      "=================================================================\n",
      " separable_conv1d (Separable  (None, 26, 32)           1012      \n",
      " Conv1D)                                                         \n",
      "                                                                 \n",
      " average_pooling1d (AverageP  (None, 13, 32)           0         \n",
      " ooling1D)                                                       \n",
      "                                                                 \n",
      " separable_conv1d_1 (Separab  (None, 11, 64)           2208      \n",
      " leConv1D)                                                       \n",
      "                                                                 \n",
      " average_pooling1d_1 (Averag  (None, 5, 64)            0         \n",
      " ePooling1D)                                                     \n",
      "                                                                 \n",
      " separable_conv1d_2 (Separab  (None, 3, 64)            4352      \n",
      " leConv1D)                                                       \n",
      "                                                                 \n",
      " separable_conv1d_3 (Separab  (None, 2, 64)            4288      \n",
      " leConv1D)                                                       \n",
      "                                                                 \n",
      " flatten_1 (Flatten)         (None, 128)               0         \n",
      "                                                                 \n",
      " dense_2 (Dense)             (None, 64)                8256      \n",
      "                                                                 \n",
      " dropout_1 (Dropout)         (None, 64)                0         \n",
      "                                                                 \n",
      " dense_3 (Dense)             (None, 10)                650       \n",
      "                                                                 \n",
      "=================================================================\n",
      "Total params: 20,766\n",
      "Trainable params: 20,766\n",
      "Non-trainable params: 0\n",
      "_________________________________________________________________\n"
     ]
    }
   ],
   "source": [
    "model.summary()"
   ]
  },
  {
   "cell_type": "code",
   "execution_count": 20,
   "id": "3098810d",
   "metadata": {},
   "outputs": [],
   "source": [
    "model.compile(optimizer='adam', loss=tf.keras.losses.SparseCategoricalCrossentropy(from_logits=True), metrics=['accuracy'])"
   ]
  },
  {
   "cell_type": "code",
   "execution_count": 21,
   "id": "346abdf6",
   "metadata": {},
   "outputs": [
    {
     "name": "stdout",
     "output_type": "stream",
     "text": [
      "Epoch 1/20\n",
      "1875/1875 [==============================] - 13s 6ms/step - loss: 0.7280 - accuracy: 0.7487 - val_loss: 0.2382 - val_accuracy: 0.9275\n",
      "Epoch 2/20\n",
      "1875/1875 [==============================] - 12s 6ms/step - loss: 0.2351 - accuracy: 0.9286 - val_loss: 0.1683 - val_accuracy: 0.9445\n",
      "Epoch 3/20\n",
      "1875/1875 [==============================] - 12s 6ms/step - loss: 0.1718 - accuracy: 0.9471 - val_loss: 0.1256 - val_accuracy: 0.9593\n",
      "Epoch 4/20\n",
      "1875/1875 [==============================] - 11s 6ms/step - loss: 0.1403 - accuracy: 0.9576 - val_loss: 0.1113 - val_accuracy: 0.9644\n",
      "Epoch 5/20\n",
      "1875/1875 [==============================] - 11s 6ms/step - loss: 0.1202 - accuracy: 0.9639 - val_loss: 0.0987 - val_accuracy: 0.9683\n",
      "Epoch 6/20\n",
      "1875/1875 [==============================] - 11s 6ms/step - loss: 0.1041 - accuracy: 0.9688 - val_loss: 0.0919 - val_accuracy: 0.9705\n",
      "Epoch 7/20\n",
      "1875/1875 [==============================] - 11s 6ms/step - loss: 0.0913 - accuracy: 0.9727 - val_loss: 0.0755 - val_accuracy: 0.9761\n",
      "Epoch 8/20\n",
      "1875/1875 [==============================] - 11s 6ms/step - loss: 0.0821 - accuracy: 0.9748 - val_loss: 0.0702 - val_accuracy: 0.9775\n",
      "Epoch 9/20\n",
      "1875/1875 [==============================] - 11s 6ms/step - loss: 0.0737 - accuracy: 0.9769 - val_loss: 0.0749 - val_accuracy: 0.9769\n",
      "Epoch 10/20\n",
      "1875/1875 [==============================] - 11s 6ms/step - loss: 0.0656 - accuracy: 0.9795 - val_loss: 0.0802 - val_accuracy: 0.9761\n",
      "Epoch 11/20\n",
      "1875/1875 [==============================] - 11s 6ms/step - loss: 0.0610 - accuracy: 0.9804 - val_loss: 0.0649 - val_accuracy: 0.9802\n",
      "Epoch 12/20\n",
      "1875/1875 [==============================] - 12s 6ms/step - loss: 0.0564 - accuracy: 0.9823 - val_loss: 0.0729 - val_accuracy: 0.9775\n",
      "Epoch 13/20\n",
      "1875/1875 [==============================] - 11s 6ms/step - loss: 0.0516 - accuracy: 0.9836 - val_loss: 0.0606 - val_accuracy: 0.9804\n",
      "Epoch 14/20\n",
      "1875/1875 [==============================] - 12s 6ms/step - loss: 0.0491 - accuracy: 0.9850 - val_loss: 0.0618 - val_accuracy: 0.9807\n",
      "Epoch 15/20\n",
      "1875/1875 [==============================] - 12s 6ms/step - loss: 0.0443 - accuracy: 0.9857 - val_loss: 0.0593 - val_accuracy: 0.9825\n",
      "Epoch 16/20\n",
      "1875/1875 [==============================] - 11s 6ms/step - loss: 0.0437 - accuracy: 0.9867 - val_loss: 0.0640 - val_accuracy: 0.9807\n",
      "Epoch 17/20\n",
      "1875/1875 [==============================] - 11s 6ms/step - loss: 0.0397 - accuracy: 0.9872 - val_loss: 0.0547 - val_accuracy: 0.9835\n",
      "Epoch 18/20\n",
      "1875/1875 [==============================] - 12s 6ms/step - loss: 0.0394 - accuracy: 0.9875 - val_loss: 0.0585 - val_accuracy: 0.9819\n",
      "Epoch 19/20\n",
      "1875/1875 [==============================] - 12s 6ms/step - loss: 0.0361 - accuracy: 0.9886 - val_loss: 0.0597 - val_accuracy: 0.9825\n",
      "Epoch 20/20\n",
      "1875/1875 [==============================] - 11s 6ms/step - loss: 0.0332 - accuracy: 0.9895 - val_loss: 0.0578 - val_accuracy: 0.9820\n",
      "Wall time: 3min 51s\n"
     ]
    }
   ],
   "source": [
    "%%time\n",
    "\n",
    "callback = tf.keras.callbacks.EarlyStopping(monitor='val_accuracy', patience= 3)\n",
    "history = model.fit(x_train, y_train, epochs=20, \n",
    "                    validation_data=(x_test, y_test), callbacks=[callback], verbose = 1)"
   ]
  },
  {
   "cell_type": "code",
   "execution_count": 22,
   "id": "e54fedcb",
   "metadata": {},
   "outputs": [
    {
     "data": {
      "text/plain": [
       "<matplotlib.legend.Legend at 0x256254a7640>"
      ]
     },
     "execution_count": 22,
     "metadata": {},
     "output_type": "execute_result"
    },
    {
     "data": {
      "image/png": "[encoded data removed]",
      "text/plain": [
       "<Figure size 432x288 with 1 Axes>"
      ]
     },
     "metadata": {
      "needs_background": "light"
     },
     "output_type": "display_data"
    }
   ],
   "source": [
    "train_history = pd.DataFrame(history.history)\n",
    "train_history['epoch'] = history.epoch\n",
    "\n",
    "sns.lineplot(x='epoch', y ='loss', data =train_history)\n",
    "sns.lineplot(x='epoch', y ='val_loss', data =train_history)\n",
    "plt.legend(labels=['train_loss', 'val_loss'])"
   ]
  },
  {
   "cell_type": "code",
   "execution_count": 23,
   "id": "d6ca71a6",
   "metadata": {},
   "outputs": [
    {
     "data": {
      "text/plain": [
       "<matplotlib.legend.Legend at 0x25625f80ee0>"
      ]
     },
     "execution_count": 23,
     "metadata": {},
     "output_type": "execute_result"
    },
    {
     "data": {
      "image/png": "[encoded data removed]",
      "text/plain": [
       "<Figure size 432x288 with 1 Axes>"
      ]
     },
     "metadata": {
      "needs_background": "light"
     },
     "output_type": "display_data"
    }
   ],
   "source": [
    "sns.lineplot(x='epoch', y ='accuracy', data =train_history)\n",
    "sns.lineplot(x='epoch', y ='val_accuracy', data =train_history)\n",
    "plt.legend(labels=['train_accuracy', 'val_accuracy'])"
   ]
  },
  {
   "cell_type": "code",
   "execution_count": 24,
   "id": "524d9293",
   "metadata": {},
   "outputs": [
    {
     "name": "stdout",
     "output_type": "stream",
     "text": [
      " The test loss = 0.06 and test accuracy = 0.98\n"
     ]
    }
   ],
   "source": [
    "test_loss, test_acc = model.evaluate(x_test, y_test, verbose=0)\n",
    "print(f' The test loss = {test_loss:.2f} and test accuracy = {test_acc:.2f}')"
   ]
  },
  {
   "cell_type": "code",
   "execution_count": 25,
   "id": "8ddcd406",
   "metadata": {},
   "outputs": [
    {
     "name": "stdout",
     "output_type": "stream",
     "text": [
      "              precision    recall  f1-score   support\n",
      "\n",
      "           0       0.98      0.99      0.99       980\n",
      "           1       0.99      1.00      0.99      1135\n",
      "           2       0.98      0.98      0.98      1032\n",
      "           3       0.97      0.98      0.98      1010\n",
      "           4       0.98      0.98      0.98       982\n",
      "           5       0.98      0.97      0.97       892\n",
      "           6       0.99      0.98      0.98       958\n",
      "           7       0.98      0.98      0.98      1028\n",
      "           8       0.99      0.98      0.98       974\n",
      "           9       0.98      0.97      0.98      1009\n",
      "\n",
      "    accuracy                           0.98     10000\n",
      "   macro avg       0.98      0.98      0.98     10000\n",
      "weighted avg       0.98      0.98      0.98     10000\n",
      "\n"
     ]
    }
   ],
   "source": [
    "y_pred_prob = model.predict(x_test)\n",
    "score = tf.nn.softmax(y_pred_prob)\n",
    "y_pred = np.argmax(score, axis = 1)\n",
    "print(classification_report (y_test, y_pred))"
   ]
  },
  {
   "cell_type": "markdown",
   "id": "97357b24",
   "metadata": {},
   "source": [
    "The dataset appears to be balanced, meaning we focus on accuracy (which is 0.98). The test error is 1 - 0.98% = 2%."
   ]
  },
  {
   "cell_type": "code",
   "execution_count": 26,
   "id": "a2202b65",
   "metadata": {},
   "outputs": [],
   "source": [
    "# 4. Please recommend the best model"
   ]
  },
  {
   "cell_type": "markdown",
   "id": "a69622ff",
   "metadata": {},
   "source": [
    "Judging by test error, the model in problem 2 is the best model."
   ]
  }
 ],
 "metadata": {
  "kernelspec": {
   "display_name": "Python 3 (ipykernel)",
   "language": "python",
   "name": "python3"
  },
  "language_info": {
   "codemirror_mode": {
    "name": "ipython",
    "version": 3
   },
   "file_extension": ".py",
   "mimetype": "text/x-python",
   "name": "python",
   "nbconvert_exporter": "python",
   "pygments_lexer": "ipython3",
   "version": "3.9.7"
  }
 },
 "nbformat": 4,
 "nbformat_minor": 5
}
